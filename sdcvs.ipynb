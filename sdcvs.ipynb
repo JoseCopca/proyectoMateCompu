{
 "metadata": {
  "name": "",
  "signature": "sha256:3f9ab5a0eaf66ea238195b5d5181716a684258228b9ba650bd14c5c84eda22dc"
 },
 "nbformat": 3,
 "nbformat_minor": 0,
 "worksheets": [
  {
   "cells": [
    {
     "cell_type": "code",
     "collapsed": false,
     "input": [
      "dfbvd"
     ],
     "language": "python",
     "metadata": {},
     "outputs": []
    }
   ],
   "metadata": {}
  }
 ]
}