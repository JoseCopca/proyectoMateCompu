{
 "metadata": {
  "name": "",
  "signature": "sha256:936f65383c24e3cca80f0b50b681f308983c3f0576c7636e085cbcbebcc2861b"
 },
 "nbformat": 3,
 "nbformat_minor": 0,
 "worksheets": [
  {
   "cells": [
    {
     "cell_type": "code",
     "collapsed": false,
     "input": [
      "import numpy as np\n",
      "import matplotlib.pyplot as plt\n",
      "from random import randint, random"
     ],
     "language": "python",
     "metadata": {},
     "outputs": [],
     "prompt_number": 13
    },
    {
     "cell_type": "code",
     "collapsed": false,
     "input": [
      "from todoEnUnMismoArchivo import *\n",
      "##no se porque no funciona :(\n",
      "#tecnicamente si quieren que todo lo de abajo funcione, necesitan copiar y pegar lo de TodoEsIncreible (al menos la clase Cell y la clase Bosque)"
     ],
     "language": "python",
     "metadata": {},
     "outputs": [],
     "prompt_number": 159
    },
    {
     "cell_type": "code",
     "collapsed": false,
     "input": [
      "def variablePF():\n",
      "    todosVivos=np.empty((81,3))\n",
      "    i=0\n",
      "    for p in (0.01,0.02,0.03,0.04,0.05,0.06,0.07,0.08,0.09):\n",
      "        for f in (0.01,0.02,0.03,0.04,0.05,0.06,0.07,0.08,0.09):\n",
      "            promedio=muchasVeces(p,f)\n",
      "            todosVivos[i,0]=p\n",
      "            todosVivos[i,1]=f\n",
      "            todosVivos[i,2]=promedio\n",
      "            i+=1\n",
      "    return todosVivos\n",
      "        "
     ],
     "language": "python",
     "metadata": {},
     "outputs": [],
     "prompt_number": 126
    },
    {
     "cell_type": "code",
     "collapsed": false,
     "input": [
      "def promedio(array,n):\n",
      "    suma=0\n",
      "    for i in array:\n",
      "        suma+=i[0]\n",
      "    return float(suma)/n"
     ],
     "language": "python",
     "metadata": {},
     "outputs": [],
     "prompt_number": 79
    },
    {
     "cell_type": "code",
     "collapsed": false,
     "input": [
      "def muchasVeces(p,f):\n",
      "    suma=0\n",
      "    todosPromedios=np.empty((1,10))\n",
      "    vivosAux=np.empty((1,10))\n",
      "    for i in xrange(0,10,1):\n",
      "        aux=Bosque(10+2,p,f)\n",
      "        aux.crea()\n",
      "        aux.empiezaFuego() #si no nunca se quema nada\n",
      "        aux.loop()\n",
      "        vivosAux=aux.estadoEnElTiempo\n",
      "        prom=promedio(vivosAux,10)\n",
      "        suma+=prom\n",
      "    return float(suma)/9"
     ],
     "language": "python",
     "metadata": {},
     "outputs": [],
     "prompt_number": 115
    },
    {
     "cell_type": "code",
     "collapsed": false,
     "input": [
      "paraGraficar=variablePF()"
     ],
     "language": "python",
     "metadata": {},
     "outputs": [],
     "prompt_number": 128
    },
    {
     "cell_type": "code",
     "collapsed": false,
     "input": [
      "from mpl_toolkits.mplot3d import Axes3D\n",
      "fig = plt.figure()\n",
      "ax = fig.add_subplot(111, projection='3d')"
     ],
     "language": "python",
     "metadata": {},
     "outputs": [],
     "prompt_number": 129
    },
    {
     "cell_type": "code",
     "collapsed": false,
     "input": [
      "X=paraGraficar[:,0]\n",
      "Y=paraGraficar[:,1]\n",
      "Z=paraGraficar[:,2]"
     ],
     "language": "python",
     "metadata": {},
     "outputs": [],
     "prompt_number": 133
    },
    {
     "cell_type": "code",
     "collapsed": false,
     "input": [
      "ax.plot_wireframe(X, Y, Z) #tampoco se porque no funciona"
     ],
     "language": "python",
     "metadata": {},
     "outputs": [
      {
       "metadata": {},
       "output_type": "pyout",
       "prompt_number": 148,
       "text": [
        "<mpl_toolkits.mplot3d.art3d.Line3DCollection at 0x7f5c8c70aa10>"
       ]
      }
     ],
     "prompt_number": 148
    },
    {
     "cell_type": "code",
     "collapsed": false,
     "input": [],
     "language": "python",
     "metadata": {},
     "outputs": []
    }
   ],
   "metadata": {}
  }
 ]
}