{
 "metadata": {
  "name": "",
  "signature": "sha256:5e4c907ca42b179fe189a1b70ab1c8995b898ba8893c62565dcad637b5c6d2dc"
 },
 "nbformat": 3,
 "nbformat_minor": 0,
 "worksheets": [
  {
   "cells": [
    {
     "cell_type": "code",
     "collapsed": false,
     "input": [
      "import numpy as np"
     ],
     "language": "python",
     "metadata": {},
     "outputs": [],
     "prompt_number": 12
    },
    {
     "cell_type": "code",
     "collapsed": false,
     "input": [
      "import random"
     ],
     "language": "python",
     "metadata": {},
     "outputs": [],
     "prompt_number": 53
    },
    {
     "cell_type": "code",
     "collapsed": false,
     "input": [
      "class Pila:\n",
      "    \"\"\"\n",
      "    Basicamente parti del primer codigo de Lore, pero cambie varias cosas\n",
      "    \"\"\"\n",
      "    \n",
      "    def __init__ (self, L):\n",
      "        \"\"\" \n",
      "        L es el numero de columnas que hay\n",
      "        \"\"\"\n",
      "        self.L = L\n",
      "        self.array = np.zeros((L), dtype=np.int8)\n",
      "        self.pendienteCritica=15\n",
      "    \n",
      "    def armar_pila(self):\n",
      "        for i in xrange(0,self.L,1):\n",
      "            self.array[i]=random.uniform(1,10)\n",
      "        self.array[self.L-1]=0\n",
      "    \"\"\"\n",
      "    Crea un arreglo con elementos de forma aleatoria\n",
      "    Yo lo imagino como si aventaras la arena y ves como salen las alturas\n",
      "    \"\"\"\n",
      "    \n",
      "    def dinamica(self):\n",
      "        \"\"\"\n",
      "        El contador es solo para ver si alguna columna esta sobre el nivel critico.\n",
      "        Si el contador termina siendo igual a 0, significa que todas las columnas estan debajo del nivel critico y la pila es estable\n",
      "        \"\"\"\n",
      "        contador=0\n",
      "        for i in xrange(0,self.L-1,1):\n",
      "            pendiente=self.array[i]+self.array[i+1]\n",
      "            if pendiente>self.pendienteCritica:\n",
      "                if self.array[i]>0:\n",
      "                    self.array[i]-=1\n",
      "                if self.array[i+1]>0:\n",
      "                    self.array[i+1]+=1\n",
      "                contador=1       \n",
      "        if contador==0:\n",
      "            return 'Es estable', self.array\n",
      "        else:\n",
      "            print self.array\n",
      "            self.dinamica()\n",
      "        \"\"\"\n",
      "        Lo que quiero que haga es que: si la pila no es estable, siga corriendo hasta que lo sea.\n",
      "        \"\"\"\n",
      "    \n",
      "    \n",
      "    \"\"\"\n",
      "    De aqui en adelante es como lo tenia Lorena.\n",
      "    \n",
      "    codigo siguiente copiado de lo de clase\n",
      "    \"\"\"\n",
      "    def startSingle(self):\n",
      "        \"\"\"La semilla es una sola y aparece a la mitad del arreglo 1D.\"\"\"\n",
      "        self.array[0, self.m/2] = 1\n",
      "        self.next += 1\n",
      "\n",
      "    def startRandom(self):\n",
      "        \"\"\"Valores aleatorios en el tiempo t_0\"\"\"\n",
      "        self.array[0] = np.random.random([1,self.m]).round()\n",
      "        self.next += 1"
     ],
     "language": "python",
     "metadata": {},
     "outputs": [],
     "prompt_number": 137
    },
    {
     "cell_type": "code",
     "collapsed": false,
     "input": [
      "pila1=Pila(L=10)\n",
      "pila1.armar_pila()\n",
      "pila1.dinamica()\n"
     ],
     "language": "python",
     "metadata": {},
     "outputs": [
      {
       "output_type": "stream",
       "stream": "stdout",
       "text": [
        "[ 3  8  6  7 10  4  2  1  9  0]\n",
        "[ 3  8  6  6 11  4  2  1  9  0]\n",
        "[ 3  8  6  5 11  5  2  1  9  0]\n",
        "[ 3  8  6  4 11  6  2  1  9  0]\n",
        "[ 3  8  6  4 10  7  2  1  9  0]\n",
        "[3 8 6 4 9 8 2 1 9 0]\n",
        "[3 8 6 4 8 9 2 1 9 0]\n",
        "[ 3  8  6  4  7 10  2  1  9  0]\n",
        "[ 3  8  6  4  6 11  2  1  9  0]\n",
        "[ 3  8  6  4  5 12  2  1  9  0]\n",
        "[ 3  8  6  4  4 13  2  1  9  0]\n",
        "[ 3  8  6  4  3 13  3  1  9  0]\n",
        "[ 3  8  6  4  2 13  4  1  9  0]\n",
        "[ 3  8  6  4  2 12  5  1  9  0]\n",
        "[ 3  8  6  4  2 11  6  1  9  0]\n",
        "[ 3  8  6  4  2 10  7  1  9  0]\n",
        "[3 8 6 4 2 9 8 1 9 0]\n",
        "[3 8 6 4 2 8 9 1 9 0]\n",
        "[ 3  8  6  4  2  7 10  1  9  0]\n",
        "[ 3  8  6  4  2  6 11  1  9  0]\n",
        "[ 3  8  6  4  2  5 12  1  9  0]\n",
        "[ 3  8  6  4  2  4 13  1  9  0]\n",
        "[ 3  8  6  4  2  3 14  1  9  0]\n",
        "[ 3  8  6  4  2  2 14  2  9  0]\n",
        "[ 3  8  6  4  2  1 14  3  9  0]\n",
        "[ 3  8  6  4  2  1 13  4  9  0]\n",
        "[ 3  8  6  4  2  1 12  5  9  0]\n",
        "[ 3  8  6  4  2  1 11  6  9  0]\n",
        "[ 3  8  6  4  2  1 10  6 10  0]\n",
        "[ 3  8  6  4  2  1  9  6 11  0]\n",
        "[ 3  8  6  4  2  1  9  5 12  0]\n",
        "[ 3  8  6  4  2  1  9  4 13  0]\n",
        "[ 3  8  6  4  2  1  9  3 14  0]\n",
        "[ 3  8  6  4  2  1  9  2 15  0]\n",
        "[ 3  8  6  4  2  1  9  1 15  0]\n",
        "[ 3  8  6  4  2  1  9  0 15  0]\n"
       ]
      }
     ],
     "prompt_number": 138
    },
    {
     "cell_type": "code",
     "collapsed": false,
     "input": [],
     "language": "python",
     "metadata": {},
     "outputs": [],
     "prompt_number": 121
    },
    {
     "cell_type": "code",
     "collapsed": false,
     "input": [],
     "language": "python",
     "metadata": {},
     "outputs": []
    }
   ],
   "metadata": {}
  }
 ]
}