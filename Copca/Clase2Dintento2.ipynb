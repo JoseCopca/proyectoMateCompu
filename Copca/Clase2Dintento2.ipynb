{
 "metadata": {
  "name": "",
  "signature": "sha256:ca77078298420ee7670ebd9ed7a6ecec724862b2f7920eca843badd70620e662"
 },
 "nbformat": 3,
 "nbformat_minor": 0,
 "worksheets": [
  {
   "cells": [
    {
     "cell_type": "code",
     "collapsed": false,
     "input": [
      "import numpy as np\n",
      "from random import randint"
     ],
     "language": "python",
     "metadata": {},
     "outputs": [],
     "prompt_number": 10
    },
    {
     "cell_type": "code",
     "collapsed": false,
     "input": [
      "class AutomataCelular2D: #de aqui van a heredar arena y bosque\n",
      "    \n",
      "    def __init__ (self, L):\n",
      "        \"\"\"\n",
      "        L es el lado del cuadrado\n",
      "        \"\"\"\n",
      "        self.L=L\n",
      "        self.array=self.startRandom()\n",
      "        self.array_chiquito=self.array[1:self.L+1, 1:self.L+1]\n",
      "         \n",
      "    \"\"\"\n",
      "    codigo siguiente copiado de lo de clase, y modificado para 2 dimensiones\n",
      "    \"\"\"\n",
      "    #falta modificar\n",
      "    def startSingle(self):\n",
      "        \"\"\"solo un granito de arena/fuego a la mitad del arreglo\"\"\"\n",
      "        self.array[self.L/2, self.L/2] = 1\n",
      "        self.next += 1\n",
      "\n",
      "    def startRandom(self):\n",
      "        array=np.zeros([self.L+2, self.L+2])\n",
      "        array_chiquito=array[1:self.L+1, 1:self.L+1]\n",
      "        for i in xrange(0,self.L,1):\n",
      "            for j in xrange(0, self.L,1):\n",
      "                array_chiquito[i,j]=randint(1,10)\n",
      "        return array\n",
      "        \n",
      "    def loop(self, steps=1):\n",
      "        \"\"\"Ejecuta el n\u00famero especificado de pasos.\"\"\"\n",
      "        [self.step() for i in xrange(steps)]\n",
      "\n",
      "    def step(self):\n",
      "        \"\"\"Avanza un paso t -> t+1.\"\"\"\n",
      "        pass"
     ],
     "language": "python",
     "metadata": {},
     "outputs": [],
     "prompt_number": 44
    },
    {
     "cell_type": "code",
     "collapsed": false,
     "input": [
      "class montonArena(AutomataCelular2D):\n",
      "    def __init__ (self, L):\n",
      "        AutomataCelular2D.__init__(self, L)\n",
      "        self.pendienteCritica=20\n",
      "        self.next=0\n",
      "    \n",
      "    def dinamicaArena(self):\n",
      "        Auxi=[]\n",
      "        Auxj=[]\n",
      "        for j in xrange(1, self.L+1,1):\n",
      "            for i in xrange(1, self.L+1,1):\n",
      "                pendiente=self.pendiente(j,i)\n",
      "                if pendiente>self.pendienteCritica:\n",
      "                    Auxj.append(j)\n",
      "                    Auxi.append(i)\n",
      "                    '''\n",
      "                    self.array[j,i]-=4\n",
      "                    self.array[j+1,i]+=1\n",
      "                    self.array[j-1,i]+=1\n",
      "                    self.array[j,i+1]+=1\n",
      "                    self.array[j,i-1]+=1\n",
      "                    self.wipe()\n",
      "                    self.menor_cero(j,i)\n",
      "                    '''\n",
      "        return Auxj, Auxi\n",
      "                     \n",
      "    def Pendiente_columna(self, j, i):\n",
      "        pendiente=self.array[j,i]+self.array[j,i+1]\n",
      "        pendiente+=self.array[j, i-1]\n",
      "        pendiente+=self.array[j+1, i]\n",
      "        pendiente+=self.array[j-1, i]\n",
      "        return pendiente\n",
      "    \n",
      "    def pendiente(self, j, i):\n",
      "        pendiente=0\n",
      "        pendiente+=self.array[j,i]\n",
      "        pendiente+=self.array[j+1,i]\n",
      "        pendiente+=self.array[j-1,i]\n",
      "        pendiente+=self.array[j,i+1]\n",
      "        pendiente+=self.array[j,i-1]\n",
      "        return pendiente\n",
      "    \n",
      "    def wipe(self):\n",
      "        self.array[:,0]=0\n",
      "        self.array[0,:]=0\n",
      "        self.array[self.L+1,:]=0\n",
      "        self.array[:,self.L+1]=0\n",
      "    \n",
      "    def menor_cero(self, j, i):\n",
      "        for m in xrange(j-1, j+2, 1):\n",
      "            for n in xrange(i-1, i+2,1):\n",
      "                if self.array[j,i]<0:\n",
      "                    self.array[j,i]=0    \n",
      "    \n",
      "    def a(self):\n",
      "        return self.array_chiquito"
     ],
     "language": "python",
     "metadata": {},
     "outputs": [],
     "prompt_number": 113
    },
    {
     "cell_type": "code",
     "collapsed": false,
     "input": [
      "prueba=montonArena(5)\n",
      "prueba.a()"
     ],
     "language": "python",
     "metadata": {},
     "outputs": [
      {
       "metadata": {},
       "output_type": "pyout",
       "prompt_number": 114,
       "text": [
        "array([[  7.,   4.,   8.,   4.,   8.],\n",
        "       [  2.,   8.,   8.,   2.,   7.],\n",
        "       [  3.,   6.,   8.,   1.,   9.],\n",
        "       [  6.,   8.,   6.,   2.,   8.],\n",
        "       [ 10.,   1.,   2.,   7.,   4.]])"
       ]
      }
     ],
     "prompt_number": 114
    },
    {
     "cell_type": "code",
     "collapsed": false,
     "input": [
      "prueba.dinamicaArena()"
     ],
     "language": "python",
     "metadata": {},
     "outputs": [
      {
       "metadata": {},
       "output_type": "pyout",
       "prompt_number": 115,
       "text": [
        "([1, 1, 1, 2, 2, 2, 2, 3, 3, 3, 3, 4, 4, 4, 4, 4, 5],\n",
        " [2, 3, 4, 2, 3, 4, 5, 2, 3, 4, 5, 1, 2, 3, 4, 5, 2])"
       ]
      }
     ],
     "prompt_number": 115
    },
    {
     "cell_type": "code",
     "collapsed": false,
     "input": [],
     "language": "python",
     "metadata": {},
     "outputs": [],
     "prompt_number": 9
    },
    {
     "cell_type": "code",
     "collapsed": false,
     "input": [],
     "language": "python",
     "metadata": {},
     "outputs": []
    }
   ],
   "metadata": {}
  }
 ]
}