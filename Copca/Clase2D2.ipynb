{
 "metadata": {
  "name": "",
  "signature": "sha256:df6e0b4381ad039e22a3fc534425022ef427fa71fcb7bf83457d296d6ee62655"
 },
 "nbformat": 3,
 "nbformat_minor": 0,
 "worksheets": [
  {
   "cells": [
    {
     "cell_type": "code",
     "collapsed": false,
     "input": [
      "import numpy as np\n",
      "from random import randint"
     ],
     "language": "python",
     "metadata": {},
     "outputs": [],
     "prompt_number": 37
    },
    {
     "cell_type": "code",
     "collapsed": false,
     "input": [
      "class AutomataCelular2D: #de aqui van a heredar arena y bosque\n",
      "    \n",
      "    def __init__ (self, L):\n",
      "        \"\"\"\n",
      "        L es el lado del cuadrado\n",
      "        \"\"\"\n",
      "        self.L=L\n",
      "        self.array=self.startRandom()\n",
      "        self.next = 0\n",
      "         \n",
      "    \"\"\"\n",
      "    codigo siguiente copiado de lo de clase, y modificado para 2 dimensiones\n",
      "    \"\"\"\n",
      "    #falta modificar\n",
      "    def startSingle(self):\n",
      "        \"\"\"solo un granito de arena/fuego a la mitad del arreglo\"\"\"\n",
      "        self.array[self.L/2, self.L/2] = 1\n",
      "        self.next += 1\n",
      "\n",
      "    def startRandom(self):\n",
      "        \"\"\"Valores aleatorios en el tiempo t_0\"\"\"\n",
      "        array=np.zeros([self.L, self.L])\n",
      "        for i in xrange(0,self.L,1):\n",
      "            for j in xrange(0, self.L,1):\n",
      "                array[i,j]=randint(1,10)\n",
      "        return array\n",
      "        \n",
      "    def loop(self, steps=1):\n",
      "        \"\"\"Ejecuta el n\u00famero especificado de pasos.\"\"\"\n",
      "        [self.step() for i in xrange(steps)]\n",
      "\n",
      "    def step(self):\n",
      "        \"\"\"Avanza un paso t -> t+1.\"\"\"\n",
      "        pass"
     ],
     "language": "python",
     "metadata": {},
     "outputs": [],
     "prompt_number": 118
    },
    {
     "cell_type": "raw",
     "metadata": {},
     "source": [
      "class montonArena(AutomataCelular2D):\n",
      "    def __init__ (self, L):\n",
      "        AutomataCelular2D.__init__(self, L)\n",
      "        self.pendienteCritica=10\n",
      "        self.next=0\n",
      "    def dinamicaArena(self):\n",
      "        aux=np.zeros((self.L, self.L))\n",
      "        bandera=True\n",
      "        j=1\n",
      "        pendienteAlta=0\n",
      "        pendiente=0\n",
      "        while (bandera==True):\n",
      "            if j==self.L-1:\n",
      "                bandera=False\n",
      "            else:\n",
      "                for i in xrange(1, self.L,1):\n",
      "                    if i==self.L-1:\n",
      "                        pendiente=self.array[j,i]+self.array[j+1,i]\n",
      "                        pendiente+=self.array[j,i]+self.array[j-1,i]\n",
      "                        pendiente+=self.array[j,i]+self.array[j,i-1]\n",
      "                        if pendiente>self.pendienteCritica:\n",
      "                            bandera=False\n",
      "                            pendienteAlta=pendiente\n",
      "                    else:\n",
      "                        pendiente=self.Pendiente_columna(j, i)\n",
      "                        if pendiente>self.pendienteCritica:\n",
      "                            bandera=False\n",
      "                            pendienteAlta=pendiente\n",
      "                    \"\"\"la bandera es para sacarte del while, porque tiene que checar que la pila completa sea estable/inestable\"\"\"\n",
      "            j+=1\n",
      "        if pendienteAlta>self.pendienteCritica:\n",
      "            for j in xrange(0, self.L, 1):\n",
      "                for i in xrange(0,self.L,1):\n",
      "                    if i==self.L-1:\n",
      "                        if self.array[j,i]>0:\n",
      "                            aux[j,i]=self.array[j,i]-1\n",
      "                    if i<self.L-1:\n",
      "                        if self.array[j,i]>0:\n",
      "                            aux[j,i]=self.array[j,i]-1\n",
      "                        aux[j,i+1]=self.array[j,i+1]+1\n",
      "            self.array=aux\n",
      "            print self.array\n",
      "            self.dinamicaArena()\n",
      "        else:\n",
      "            print 'estable'\n",
      "            print self.array\n",
      "            \n",
      "    def Pendiente_columna(self, j, i):\n",
      "        pendiente=self.array[j,i]+self.array[j,i+1]\n",
      "        pendiente+=self.array[j, i-1]\n",
      "        pendiente+=self.array[j+1, i]\n",
      "        pendiente+=self.array[j-1, i]\n",
      "        return pendiente\n",
      "    \n",
      "    def a(self):\n",
      "        return self.array"
     ]
    },
    {
     "cell_type": "raw",
     "metadata": {},
     "source": []
    },
    {
     "cell_type": "raw",
     "metadata": {},
     "source": []
    },
    {
     "cell_type": "heading",
     "level": 2,
     "metadata": {},
     "source": []
    },
    {
     "cell_type": "code",
     "collapsed": false,
     "input": [],
     "language": "python",
     "metadata": {},
     "outputs": []
    },
    {
     "cell_type": "code",
     "collapsed": false,
     "input": [],
     "language": "python",
     "metadata": {},
     "outputs": []
    },
    {
     "cell_type": "code",
     "collapsed": false,
     "input": [
      "prueba=montonArena(5)\n",
      "prueba.a()"
     ],
     "language": "python",
     "metadata": {},
     "outputs": [
      {
       "metadata": {},
       "output_type": "pyout",
       "prompt_number": 360,
       "text": [
        "array([[  2.,   5.,   9.,   9.,   7.],\n",
        "       [ 10.,   5.,   4.,   3.,   4.],\n",
        "       [  7.,   6.,   8.,   7.,   7.],\n",
        "       [  3.,   2.,   2.,   1.,   9.],\n",
        "       [  1.,   5.,   1.,   9.,   1.]])"
       ]
      }
     ],
     "prompt_number": 360
    },
    {
     "cell_type": "code",
     "collapsed": false,
     "input": [
      "prueba.dinamicaArena()"
     ],
     "language": "python",
     "metadata": {},
     "outputs": [
      {
       "output_type": "stream",
       "stream": "stdout",
       "text": [
        "[[ 1.  4.  8.  8.  6.]\n",
        " [ 9.  4.  3.  2.  3.]\n",
        " [ 6.  5.  7.  6.  6.]\n",
        " [ 2.  1.  1.  0.  8.]\n",
        " [ 0.  4.  0.  8.  0.]]\n",
        "[[ 0.  3.  7.  7.  5.]\n",
        " [ 8.  3.  2.  1.  2.]\n",
        " [ 5.  4.  6.  5.  5.]\n",
        " [ 1.  0.  0.  1.  7.]\n",
        " [ 0.  3.  1.  7.  1.]]\n",
        "[[ 0.  2.  6.  6.  4.]\n",
        " [ 7.  2.  1.  0.  1.]\n",
        " [ 4.  3.  5.  4.  4.]\n",
        " [ 0.  1.  1.  0.  6.]\n",
        " [ 0.  2.  0.  6.  0.]]\n",
        "[[ 0.  1.  5.  5.  3.]\n",
        " [ 6.  1.  0.  1.  0.]\n",
        " [ 3.  2.  4.  3.  3.]\n",
        " [ 0.  0.  0.  1.  5.]\n",
        " [ 0.  1.  1.  5.  1.]]\n",
        "[[ 0.  0.  4.  4.  2.]\n",
        " [ 5.  0.  1.  0.  1.]\n",
        " [ 2.  1.  3.  2.  2.]\n",
        " [ 0.  1.  1.  0.  4.]\n",
        " [ 0.  0.  0.  4.  0.]]\n",
        "[[ 0.  1.  3.  3.  1.]\n",
        " [ 4.  1.  0.  1.  0.]\n",
        " [ 1.  0.  2.  1.  1.]\n",
        " [ 0.  0.  0.  1.  3.]\n",
        " [ 0.  1.  1.  3.  1.]]\n",
        "[[ 0.  0.  2.  2.  0.]\n",
        " [ 3.  0.  1.  0.  1.]\n",
        " [ 0.  1.  1.  0.  0.]\n",
        " [ 0.  1.  1.  0.  2.]\n",
        " [ 0.  0.  0.  2.  0.]]\n",
        "estable\n",
        "[[ 0.  0.  2.  2.  0.]\n",
        " [ 3.  0.  1.  0.  1.]\n",
        " [ 0.  1.  1.  0.  0.]\n",
        " [ 0.  1.  1.  0.  2.]\n",
        " [ 0.  0.  0.  2.  0.]]\n"
       ]
      }
     ],
     "prompt_number": 361
    },
    {
     "cell_type": "code",
     "collapsed": false,
     "input": [],
     "language": "python",
     "metadata": {},
     "outputs": [],
     "prompt_number": 313
    },
    {
     "cell_type": "code",
     "collapsed": false,
     "input": [],
     "language": "python",
     "metadata": {},
     "outputs": []
    }
   ],
   "metadata": {}
  }
 ]
}