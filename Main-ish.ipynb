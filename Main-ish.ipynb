{
 "metadata": {
  "name": "",
  "signature": "sha256:639c7e54b0b819eec0409045d5e37b4255f6859b4d969c238480b10752fd2784"
 },
 "nbformat": 3,
 "nbformat_minor": 0,
 "worksheets": [
  {
   "cells": [
    {
     "cell_type": "heading",
     "level": 1,
     "metadata": {},
     "source": [
      " Auto-organizaci\u00f3n cr\u00edtica"
     ]
    },
    {
     "cell_type": "markdown",
     "metadata": {},
     "source": [
      "**\u00bfQu\u00e9 es eso?**\n",
      "\n",
      "Es un concepto planteado por  Bak, Tang, y Wiesenfeld para explicar sistemas (como los que tienen ruido $1/f$ que exhiben correlaciones de poder-ley en tiempo y espacio.\n",
      "\n",
      "\n",
      "La idea central de la auto-organizaci\u00f3n cr\u00edtica, es que todos los eventos en un sistema se explican por la interacci\u00f3n de los elementos del mismo sin intervenci\u00f3n externa, se ahi surge cierta estructura. Pero en general, la definici\u00f3n depende de que es lo que estas modelando."
     ]
    },
    {
     "cell_type": "heading",
     "level": 2,
     "metadata": {},
     "source": [
      "Pila de arena de una dimensi\u00f3n"
     ]
    },
    {
     "cell_type": "markdown",
     "metadata": {},
     "source": [
      "* \n",
      "\n",
      "    Sea un arreglo unidimensional de `L` columnas de granos de arena con alturas $h_i$. En cada columna definimos su _pendiente_ local como\n",
      "    \n",
      "    $$\n",
      "    s_i = h_i - h_{i+1}\n",
      "    $$\n",
      "    \n",
      "    Definimos tambi\u00e9n la _pendiente cr\u00edtica_ $s_c$: La pila es inestable si $s_i > s_c$, para cualquier columna $i$.\n",
      "    \n",
      "    La regla de actualizaci\u00f3n (_din\u00e1mica_), es: Si la pila es inestable, $s_i > s_c$, entonces $h_i \\to h_i - 1$ y $h_{i+1} \\to h_{i+1} + 1$. Esto se debe de hacer de manera _sincr\u00f3nica_ en todas las columnas. Si la pila es estable, agrega *un* grano de arena a una columna al azar.\n",
      "    \n",
      "    Muestra la evoluci\u00f3n. Progr\u00e1malo como un aut\u00f3mata celular.\n",
      "    \n",
      "    _Hint_ Para los extremos considera dos escenarios: Pared fija o bordes abiertos (como si se cayeran de la mesa). \u00bfEn que cambia la simulaci\u00f3n?\n",
      "    "
     ]
    },
    {
     "cell_type": "markdown",
     "metadata": {},
     "source": [
      "\"\"\""
     ]
    },
    {
     "cell_type": "markdown",
     "metadata": {},
     "source": [
      "La sincronia se logra utilizando una arreglo auxiliar en el que se almacenan los cambios (que la pila de arena se desparrame), al finalizar el an\u00e1lisis esta auxiliar se converte en el nuevo estado del automata celular. "
     ]
    },
    {
     "cell_type": "code",
     "collapsed": false,
     "input": [
      "!cat PilaArena1D.py"
     ],
     "language": "python",
     "metadata": {},
     "outputs": [
      {
       "output_type": "stream",
       "stream": "stdout",
       "text": [
        "class PilaArena1D:\r\n",
        "    \r\n",
        "    def __init__ (self, L, n=1):\r\n",
        "        \"\"\" \r\n",
        "        L es el numero de columnas que hay\r\n",
        "        \"\"\"\r\n",
        "        self.L = L\r\n",
        "        self.n = n\r\n",
        "        self.array = np.zeros((self.n,self.L))\r\n",
        "        self.pendienteCritica=7\r\n",
        "    \r\n",
        "    def dinamicaArena(self):\r\n",
        "        \"\"\"\r\n",
        "        dinamica explicada en las instrucciones\r\n",
        "        \"\"\"\r\n",
        "        aux=np.zeros((self.n, self.L))\r\n",
        "        bandera=True\r\n",
        "        j=0\r\n",
        "        while bandera:\r\n",
        "            pendiente=self.array[0,j]+self.array[0,j+1]\r\n",
        "            if pendiente>self.pendienteCritica or j==L-2:\r\n",
        "                bandera=False   \r\n",
        "            j+=1\r\n",
        "        if pendiente>self.pendienteCritica:\r\n",
        "            for i in xrange(0,self.L,1):\r\n",
        "                aux[0,i]=self.array[0,i]-1\r\n",
        "                aux[0,i]=self.array[0,i]+1\r\n",
        "                \"\"\"\r\n",
        "                se desparrama\r\n",
        "                por ahora es circular (ups)\r\n",
        "                \"\"\"\r\n",
        "            self.array=aux\r\n",
        "        else:\r\n",
        "            \"\"\"\r\n",
        "            crece\r\n",
        "            \"\"\"\r\n",
        "            self.array[0,randint(0,self.L-1)]+=1\r\n",
        "    \r\n",
        "    \"\"\"\r\n",
        "    codigo siguiente modificado de lo que se vi\ufffd\ufffd en clase\r\n",
        "    \"\"\"\r\n",
        "    def startSingle(self):\r\n",
        "        \"\"\"solo un granito de arena a la mitad del arreglo\"\"\"\r\n",
        "        self.array[0, self.L/2] = 1\r\n",
        "\r\n",
        "    def startRandom(self):\r\n",
        "        \"\"\"Valores aleatorios en el tiempo t_0\"\"\"\r\n",
        "        for i in xrange(0,self.L,1):\r\n",
        "            self.array[0,i]=randint(1,10)\r\n",
        "        \r\n",
        "    def loop(self, steps=10):\r\n",
        "        \"\"\"Ejecuta el n\ufffd\ufffdmero especificado de pasos.\"\"\"\r\n",
        "        [self.step() for i in xrange(steps)]\r\n",
        "\r\n",
        "    def step(self):\r\n",
        "        \"\"\"Avanza un paso t -> t+1.\"\"\"\r\n",
        "        self.dinamicaArena()"
       ]
      }
     ],
     "prompt_number": 2
    },
    {
     "cell_type": "markdown",
     "metadata": {},
     "source": [
      "**Lo que falta:**\n",
      "* Los extremos, como caja o como mesa"
     ]
    },
    {
     "cell_type": "heading",
     "level": 2,
     "metadata": {},
     "source": [
      "Pila de arena de dos dimensiones"
     ]
    },
    {
     "cell_type": "markdown",
     "metadata": {},
     "source": [
      "* \n",
      "\n",
      "    Una pila de arena m\u00e1s real es de tres dimensiones. En el art\u00edculo _Bak, Tang and Wiesenfel_ **Self-organized criticality:  An explanation of the ** $\\frac{1}{f}$ **noise**, `Phys. Rev. Lett. 59, 381(1987)` los autores modelaron una pila de arena mediante un aut\u00f3mata celular de dos dimensiones.\n",
      "    \n",
      "    En este modelo, se construye un arreglo de dos dimensiones en el que cada celda es una columna de arena.\n",
      "    \n",
      "    Implemente el modelo, haga simulaciones en una pila de $200 \\times 200$. Muestre varios patrones para cada nivel de estados inestables.\n",
      "    \n",
      "    Explique el concepto de _self-organized criticality_. Muestre los datos que soportan su explicaci\u00f3n.\n",
      "    \n",
      "    \n"
     ]
    },
    {
     "cell_type": "markdown",
     "metadata": {},
     "source": [
      "\"\"\""
     ]
    },
    {
     "cell_type": "code",
     "collapsed": false,
     "input": [
      "!cat PilaArena2D.py"
     ],
     "language": "python",
     "metadata": {},
     "outputs": [
      {
       "output_type": "stream",
       "stream": "stdout",
       "text": [
        "class montonArena:\r\n",
        "    \r\n",
        "    def __init__ (self, L):\r\n",
        "        self.L=L\r\n",
        "        self.array=self.startRandom()\r\n",
        "        self.pendienteCritica=15\r\n",
        "        \r\n",
        "    def dinamicaArena(self):\r\n",
        "        aux=np.zeros((self.L, self.L))\r\n",
        "        bandera=True\r\n",
        "        j=1\r\n",
        "        while bandera==True:\r\n",
        "            for i in xrange(1, self.L-1):\r\n",
        "                if j==self.L-1:\r\n",
        "                    bandera=False\r\n",
        "                else:\r\n",
        "                    pendiente=self.array[i,j]+self.array[i,j+1]\r\n",
        "                    pendiente+=self.array[i, j-1]\r\n",
        "                    pendiente+=self.array[i+1, j]\r\n",
        "                    pendiente+=self.array[i-1, j-1]\r\n",
        "                    if pendiente>self.pendienteCritica:\r\n",
        "                        bandera=False\r\n",
        "                    \"\"\"la bandera es para sacarte del while, porque tiene que checar que la pila completa sea estable/inestable\"\"\"\r\n",
        "            j+=1\r\n",
        "        if pendiente>self.pendienteCritica:\r\n",
        "            for j in xrange(0, self.L, 1):\r\n",
        "                for i in xrange(0,self.L-1,1):\r\n",
        "                    aux[j,i]=self.array[j,i]-1\r\n",
        "                    aux[j,i+1]=self.array[j,i+1]+1\r\n",
        "                \"\"\"\r\n",
        "                se desparrama\r\n",
        "                \"\"\"\r\n",
        "            self.array=aux\r\n",
        "        else:\r\n",
        "            \"\"\"\r\n",
        "            crece\r\n",
        "            \"\"\"\r\n",
        "            pass\r\n",
        "            \r\n",
        "    def a(self):\r\n",
        "        return self.array\r\n",
        "    \r\n",
        "     \"\"\"\r\n",
        "    codigo siguiente copiado de lo de clase, y modificado para 2 dimensiones\r\n",
        "    \"\"\"\r\n",
        "    def startSingle(self):\r\n",
        "        \"\"\"solo un granito de arena/fuego a la mitad del arreglo\"\"\"\r\n",
        "        self.array[self.L/2, self.L/2] = 1\r\n",
        "\r\n",
        "    def startRandom(self):\r\n",
        "        \"\"\"Valores aleatorios en el tiempo t_0\"\"\"\r\n",
        "        array=np.zeros([self.L, self.L])\r\n",
        "        for i in xrange(0,self.L,1):\r\n",
        "            for j in xrange(0, self.L,1):\r\n",
        "                array[i,j]=randint(1,10)\r\n",
        "        return array\r\n",
        "        \r\n",
        "    def loop(self, steps=1):\r\n",
        "        \"\"\"Ejecuta el n\ufffd\ufffdmero especificado de pasos.\"\"\"\r\n",
        "        [self.step() for i in xrange(steps)]\r\n",
        "\r\n",
        "    def step(self):\r\n",
        "        \"\"\"Avanza un paso t -> t+1.\"\"\"\r\n",
        "        pass"
       ]
      }
     ],
     "prompt_number": 1
    },
    {
     "cell_type": "markdown",
     "metadata": {},
     "source": [
      "**Lo que falta:**\n",
      "* Recolectar los datos para ver la estructura de la autoorganizaci\u00f3n\n",
      "* Arreglar AutomataCelular2D (para que la pila y el incendio puedan heredar bien)\n",
      "* Terminar el c\u00f3digo"
     ]
    },
    {
     "cell_type": "heading",
     "level": 2,
     "metadata": {},
     "source": [
      "Incendio forestal"
     ]
    },
    {
     "cell_type": "markdown",
     "metadata": {},
     "source": [
      "* \n",
      "\n",
      "    En _Bak, Chen and Tang_ **A forest-fire  model  and  some  thoughts  on  turbulence**,  `Phys. Lett. A 147, 297-300 (1990)`, los autores crearon un aut\u00f3mata celular probabil\u00edstico para modelar como se esparce el fuego en un bosque. El bosque es modelado en un cuadrado de lado $L$ en el que cada celda es un \u00e1rbol que puede estar en tres estados: _vivo_(verde), _quem\u00e1ndose_ (amarillo) y _muerto_ (negro). \n",
      "\n",
      "    La evoluci\u00f3n se determina como sigue:\n",
      "\n",
      "    En el tiempo $t$ se determina el estado de cada celda, en $t+1$ se aplican las tres reglas:\n",
      "\n",
      "        1. Si el \u00e1rbol est\u00e1 vivo se verifican sus vecinos. Si _alg\u00fan_ vecino est\u00e1 en llamas el \u00e1rbol se quema.\n",
      "        2. Si el \u00e1rbol est\u00e1 en llamas, pasa a muerto.\n",
      "        3. Si el \u00e1rbol est\u00e1 muerto, se regenera con una probabilidad $p$.\n",
      "        \n",
      "    Reproduzca los resultados del art\u00edculo, en particular la longitud de la correlaci\u00f3n $\\xi(p)$."
     ]
    },
    {
     "cell_type": "markdown",
     "metadata": {},
     "source": [
      "\"\"\""
     ]
    },
    {
     "cell_type": "markdown",
     "metadata": {},
     "source": [
      "Lo m\u00e1s complicado es analizar la vecindad. Esto se debe a que dentro de una matriz existen diferentes vecindades analizables dependiendo de la posici\u00f3n encontrada. Por ejemplo, en la posici\u00f3n (0,0) no se puede analizar posiciones anteriores en ninguna entrada. Existen 5 diferentes vecindades (utilizamos la vecindad de ... la que considera las 8 celdas continuas):\n",
      "* (0,0)\n",
      "* (0,i)\n",
      "* (i,0)\n",
      "* (n,n)\n",
      "* (i,i)"
     ]
    },
    {
     "cell_type": "code",
     "collapsed": false,
     "input": [
      "!cat IncendioForestal.py"
     ],
     "language": "python",
     "metadata": {},
     "outputs": [
      {
       "output_type": "stream",
       "stream": "stdout",
       "text": [
        "class incendioForestal:\r\n",
        "    \r\n",
        "    def __init__(self,L):\r\n",
        "        self.bosque=np.ones((L,L))\r\n",
        "        self.p=0.7\r\n",
        "    \r\n",
        "   def muere(self,aux,i,j):\r\n",
        "    # Esta funci\ufffd\ufffdn cumple que el arbol muera si se esta quemando.\r\n",
        "\r\n",
        "        if self.bosque[i,j]==2:\r\n",
        "            aux[i,j] = 0\r\n",
        "        else:\r\n",
        "            aux[i,j] = self.bosque[i,j]\r\n",
        "\r\n",
        "        return aux[i,j]\r\n",
        "    \r\n",
        "    def revive(self,aux,i,j):\r\n",
        "    # Esta funci\ufffd\ufffdn determina si el arbol revive de manera aleatoria. \r\n",
        "    # La probabilidad de revivir esta dada por p.\r\n",
        "\r\n",
        "        if self.bosque[i,j] == 0 and 0.01*randint(0,100)<=self.p: #por que no random.random()\r\n",
        "            aux[i,j]= 1\r\n",
        "        else:\r\n",
        "            aux[i,j] = self.bosque[i,j]\r\n",
        "\r\n",
        "        return aux[i,j]\r\n",
        "    \r\n",
        "    def fuego(self,aux,i,j): #vecinos\r\n",
        "        if bosque[i,j+1]==2 or bosque[i+1,j+1]==2 or bosque[i+1,j]==2 or bosque[i-1,j]==2 or bosque[i,j-1]==2 or bosque[i-1,j-1]==2 or bosque[i+1,j-1]==2 or bosque[i-1,j+1]:\r\n",
        "            aux[i,j] = 2                      \r\n",
        "        else: \r\n",
        "            aux[i,j] = 1\r\n",
        "\r\n",
        "        return aux[i,j]\r\n",
        "\r\n",
        "    \r\n",
        "    def incendio(self):\r\n",
        "    \"\"\"\r\n",
        "    esto es un solo paso, una sola unidad de tiempo\r\n",
        "    \"\"\"\r\n",
        "        aux =np.zeros((self.L,self.L))\r\n",
        "    \r\n",
        "        for i in xrange(1,self.L-1):\r\n",
        "            for j in xrange(1,self.L-1):\r\n",
        "                if bosque[i,j]==1:\r\n",
        "                    fuego(aux,i,j,)\r\n",
        "                elif bosque[i,j]==2:\r\n",
        "                    muere(aux,i,j)\r\n",
        "                elif bosque[i,j]==0:\r\n",
        "                    revive(aux,i,j)\r\n",
        "                    \r\n",
        "        self.bosque=aux\r\n",
        "    \r\n",
        "    def loop(self, steps=10):\r\n",
        "        \"\"\"Ejecuta el n\ufffd\ufffdmero especificado de pasos.\"\"\"\r\n",
        "        [self.step() for i in xrange(steps)]\r\n",
        "\r\n",
        "    def step(self):\r\n",
        "        \"\"\"Avanza un paso t -> t+1.\"\"\"\r\n",
        "        self.incendio()"
       ]
      }
     ],
     "prompt_number": 3
    },
    {
     "cell_type": "markdown",
     "metadata": {},
     "source": [
      "**Lo que falta:**\n",
      "* Usar un slider para ver el cambio al modificar p\n",
      "* Implementar un an\u00e1lisis en las celdas para observar, en promedio, c\u00faantas veces se quema, revive o muere el \u00e1rbol\n",
      "* A trav\u00e9s de imshow modificar los n\u00fameros a colores y en general que se vea bien\n",
      "* Intentar implementarlo para matrices grandes y con muchos tiempos para poder observar las estructuras que se forman"
     ]
    }
   ],
   "metadata": {}
  }
 ]
}