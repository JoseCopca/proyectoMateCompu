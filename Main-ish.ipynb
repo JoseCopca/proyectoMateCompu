{
 "metadata": {
  "name": "",
  "signature": "sha256:810c811c6b5f9582628a5c1fabb4b4eb0c83408c3a01e626ec980dbe7e1b2b64"
 },
 "nbformat": 3,
 "nbformat_minor": 0,
 "worksheets": [
  {
   "cells": [
    {
     "cell_type": "heading",
     "level": 1,
     "metadata": {},
     "source": [
      " Auto-organizaci\u00f3n cr\u00edtica"
     ]
    },
    {
     "cell_type": "markdown",
     "metadata": {},
     "source": [
      "**\u00bfQu\u00e9 es eso?**\n",
      "\n",
      "Es un concepto planteado por  Bak, Tang, y Wiesenfeld para explicar sistemas (como los que tienen ruido $1/f$ que exhiben correlaciones de poder-ley en tiempo y espacio.\n",
      "\n",
      "\n",
      "La idea central de la auto-organizaci\u00f3n cr\u00edtica, es que todos los eventos en un sistema se explican por la interacci\u00f3n de los elementos del mismo sin intervenci\u00f3n externa, se ahi surge cierta estructura. Pero en general, la definici\u00f3n depende de que es lo que estas modelando."
     ]
    },
    {
     "cell_type": "heading",
     "level": 2,
     "metadata": {},
     "source": [
      "Pila de arena de una dimensi\u00f3n"
     ]
    },
    {
     "cell_type": "markdown",
     "metadata": {},
     "source": [
      "* \n",
      "\n",
      "    Sea un arreglo unidimensional de `L` columnas de granos de arena con alturas $h_i$. En cada columna definimos su _pendiente_ local como\n",
      "    \n",
      "    $$\n",
      "    s_i = h_i - h_{i+1}\n",
      "    $$\n",
      "    \n",
      "    Definimos tambi\u00e9n la _pendiente cr\u00edtica_ $s_c$: La pila es inestable si $s_i > s_c$, para cualquier columna $i$.\n",
      "    \n",
      "    La regla de actualizaci\u00f3n (_din\u00e1mica_), es: Si la pila es inestable, $s_i > s_c$, entonces $h_i \\to h_i - 1$ y $h_{i+1} \\to h_{i+1} + 1$. Esto se debe de hacer de manera _sincr\u00f3nica_ en todas las columnas. Si la pila es estable, agrega *un* grano de arena a una columna al azar.\n",
      "    \n",
      "    Muestra la evoluci\u00f3n. Progr\u00e1malo como un aut\u00f3mata celular.\n",
      "    \n",
      "    _Hint_ Para los extremos considera dos escenarios: Pared fija o bordes abiertos (como si se cayeran de la mesa). \u00bfEn que cambia la simulaci\u00f3n?\n",
      "    "
     ]
    },
    {
     "cell_type": "code",
     "collapsed": false,
     "input": [
      "import AutomataCelular1D.py"
     ],
     "language": "python",
     "metadata": {},
     "outputs": []
    },
    {
     "cell_type": "heading",
     "level": 2,
     "metadata": {},
     "source": [
      "Pila de arena de dos dimensiones"
     ]
    },
    {
     "cell_type": "markdown",
     "metadata": {},
     "source": [
      "* \n",
      "\n",
      "    Una pila de arena m\u00e1s real es de tres dimensiones. En el art\u00edculo _Bak, Tang and Wiesenfel_ **Self-organized criticality:  An explanation of the ** $\\frac{1}{f}$ **noise**, `Phys. Rev. Lett. 59, 381(1987)` los autores modelaron una pila de arena mediante un aut\u00f3mata celular de dos dimensiones.\n",
      "    \n",
      "    En este modelo, se construye un arreglo de dos dimensiones en el que cada celda es una columna de arena.\n",
      "    \n",
      "    Implemente el modelo, haga simulaciones en una pila de $200 \\times 200$. Muestre varios patrones para cada nivel de estados inestables.\n",
      "    \n",
      "    Explique el concepto de _self-organized criticality_. Muestre los datos que soportan su explicaci\u00f3n.\n",
      "    \n",
      "    \n"
     ]
    },
    {
     "cell_type": "code",
     "collapsed": false,
     "input": [
      "import AutomataCelular2D.py\n",
      "import PilaArena2D.py"
     ],
     "language": "python",
     "metadata": {},
     "outputs": []
    },
    {
     "cell_type": "heading",
     "level": 2,
     "metadata": {},
     "source": [
      "Incendio forestal"
     ]
    },
    {
     "cell_type": "markdown",
     "metadata": {},
     "source": [
      "* \n",
      "\n",
      "    En _Bak, Chen and Tang_ **A forest-fire  model  and  some  thoughts  on  turbulence**,  `Phys. Lett. A 147, 297-300 (1990)`, los autores crearon un aut\u00f3mata celular probabil\u00edstico para modelar como se esparce el fuego en un bosque. El bosque es modelado en un cuadrado de lado $L$ en el que cada celda es un \u00e1rbol que puede estar en tres estados: _vivo_(verde), _quem\u00e1ndose_ (amarillo) y _muerto_ (negro). \n",
      "\n",
      "    La evoluci\u00f3n se determina como sigue:\n",
      "\n",
      "    En el tiempo $t$ se determina el estado de cada celda, en $t+1$ se aplican las tres reglas:\n",
      "\n",
      "        1. Si el \u00e1rbol est\u00e1 vivo se verifican sus vecinos. Si _alg\u00fan_ vecino est\u00e1 en llamas el \u00e1rbol se quema.\n",
      "        2. Si el \u00e1rbol est\u00e1 en llamas, pasa a muerto.\n",
      "        3. Si el \u00e1rbol est\u00e1 muerto, se regenera con una probabilidad $p$.\n",
      "        \n",
      "    Reproduzca los resultados del art\u00edculo, en particular la longitud de la correlaci\u00f3n $\\xi(p)$."
     ]
    },
    {
     "cell_type": "code",
     "collapsed": false,
     "input": [
      "import AutomataCelular2D.py\n",
      "import IncendioForestal.py"
     ],
     "language": "python",
     "metadata": {},
     "outputs": []
    }
   ],
   "metadata": {}
  }
 ]
}