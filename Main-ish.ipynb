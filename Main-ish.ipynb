{
 "metadata": {
  "name": "",
  "signature": "sha256:b246b6a9747fdd27e78f1f22f8f1e0bd77b4d58a617df534fb5592a221c91bda"
 },
 "nbformat": 3,
 "nbformat_minor": 0,
 "worksheets": [
  {
   "cells": [
    {
     "cell_type": "heading",
     "level": 1,
     "metadata": {},
     "source": [
      " Auto-organizaci\u00f3n cr\u00edtica"
     ]
    },
    {
     "cell_type": "markdown",
     "metadata": {},
     "source": [
      "**\u00bfQu\u00e9 es eso?**\n",
      "\n",
      "Es un concepto planteado por  Bak, Tang, y Wiesenfeld para explicar sistemas (como los que tienen ruido $1/f$ que exhiben correlaciones de poder-ley en tiempo y espacio.\n",
      "\n",
      "\n",
      "La idea central de la auto-organizaci\u00f3n cr\u00edtica, es que todos los eventos en un sistema se explican por la interacci\u00f3n de los elementos del mismo sin intervenci\u00f3n externa, se ahi surge cierta estructura. Pero en general, la definici\u00f3n depende de que es lo que estas modelando."
     ]
    },
    {
     "cell_type": "heading",
     "level": 2,
     "metadata": {},
     "source": [
      "Pila de arena de una dimensi\u00f3n"
     ]
    },
    {
     "cell_type": "markdown",
     "metadata": {},
     "source": [
      "* \n",
      "\n",
      "    Sea un arreglo unidimensional de `L` columnas de granos de arena con alturas $h_i$. En cada columna definimos su _pendiente_ local como\n",
      "    \n",
      "    $$\n",
      "    s_i = h_i - h_{i+1}\n",
      "    $$\n",
      "    \n",
      "    Definimos tambi\u00e9n la _pendiente cr\u00edtica_ $s_c$: La pila es inestable si $s_i > s_c$, para cualquier columna $i$.\n",
      "    \n",
      "    La regla de actualizaci\u00f3n (_din\u00e1mica_), es: Si la pila es inestable, $s_i > s_c$, entonces $h_i \\to h_i - 1$ y $h_{i+1} \\to h_{i+1} + 1$. Esto se debe de hacer de manera _sincr\u00f3nica_ en todas las columnas. Si la pila es estable, agrega *un* grano de arena a una columna al azar.\n",
      "    \n",
      "    Muestra la evoluci\u00f3n. Progr\u00e1malo como un aut\u00f3mata celular.\n",
      "    \n",
      "    _Hint_ Para los extremos considera dos escenarios: Pared fija o bordes abiertos (como si se cayeran de la mesa). \u00bfEn que cambia la simulaci\u00f3n?\n",
      "    "
     ]
    },
    {
     "cell_type": "markdown",
     "metadata": {},
     "source": [
      "\"\"\""
     ]
    },
    {
     "cell_type": "markdown",
     "metadata": {},
     "source": [
      "La sincronia se logra utilizando una arreglo auxiliar en el que se almacenan los cambios (que la pila de arena se desparrame), al finalizar el an\u00e1lisis esta auxiliar se converte en el nuevo estado del automata celular. "
     ]
    },
    {
     "cell_type": "code",
     "collapsed": false,
     "input": [
      "!cat PilaArena1D.py"
     ],
     "language": "python",
     "metadata": {},
     "outputs": [
      {
       "output_type": "stream",
       "stream": "stdout",
       "text": [
        "class PilaArena1D:\r\n",
        "    \r\n",
        "    def __init__ (self, L, n=1):\r\n",
        "        \"\"\" \r\n",
        "        L es el numero de columnas que hay\r\n",
        "        \"\"\"\r\n",
        "        self.L = L\r\n",
        "        self.n = n\r\n",
        "        self.array = np.zeros((self.n,self.L))\r\n",
        "        self.pendienteCritica=7\r\n",
        "    \r\n",
        "    def dinamicaArena(self):\r\n",
        "        \"\"\"\r\n",
        "        dinamica explicada en las instrucciones\r\n",
        "        \"\"\"\r\n",
        "        aux=np.zeros((self.n, self.L))\r\n",
        "        bandera=True\r\n",
        "        j=0\r\n",
        "        while bandera:\r\n",
        "            pendiente=self.array[0,j]+self.array[0,j+1]\r\n",
        "            if pendiente>self.pendienteCritica or j==L-2:\r\n",
        "                bandera=False   \r\n",
        "            j+=1\r\n",
        "        if pendiente>self.pendienteCritica:\r\n",
        "            for i in xrange(0,self.L,1):\r\n",
        "                aux[0,i]=self.array[0,i]-1\r\n",
        "                aux[0,i]=self.array[0,i]+1\r\n",
        "                \"\"\"\r\n",
        "                se desparrama\r\n",
        "                por ahora es circular (ups)\r\n",
        "                \"\"\"\r\n",
        "            self.array=aux\r\n",
        "        else:\r\n",
        "            \"\"\"\r\n",
        "            crece\r\n",
        "            \"\"\"\r\n",
        "            self.array[0,randint(0,self.L-1)]+=1\r\n",
        "    \r\n",
        "    \"\"\"\r\n",
        "    codigo siguiente modificado de lo que se vi\ufffd\ufffd en clase\r\n",
        "    \"\"\"\r\n",
        "    def startSingle(self):\r\n",
        "        \"\"\"solo un granito de arena a la mitad del arreglo\"\"\"\r\n",
        "        self.array[0, self.L/2] = 1\r\n",
        "\r\n",
        "    def startRandom(self):\r\n",
        "        \"\"\"Valores aleatorios en el tiempo t_0\"\"\"\r\n",
        "        for i in xrange(0,self.L,1):\r\n",
        "            self.array[0,i]=randint(1,10)\r\n",
        "        \r\n",
        "    def loop(self, steps=10):\r\n",
        "        \"\"\"Ejecuta el n\ufffd\ufffdmero especificado de pasos.\"\"\"\r\n",
        "        [self.step() for i in xrange(steps)]\r\n",
        "\r\n",
        "    def step(self):\r\n",
        "        \"\"\"Avanza un paso t -> t+1.\"\"\"\r\n",
        "        self.dinamicaArena()"
       ]
      }
     ],
     "prompt_number": 2
    },
    {
     "cell_type": "markdown",
     "metadata": {},
     "source": [
      "**Lo que falta:**\n",
      "* Los extremos, como caja o como mesa"
     ]
    },
    {
     "cell_type": "heading",
     "level": 2,
     "metadata": {},
     "source": [
      "Pila de arena de dos dimensiones"
     ]
    },
    {
     "cell_type": "markdown",
     "metadata": {},
     "source": [
      "* \n",
      "\n",
      "    Una pila de arena m\u00e1s real es de tres dimensiones. En el art\u00edculo _Bak, Tang and Wiesenfel_ **Self-organized criticality:  An explanation of the ** $\\frac{1}{f}$ **noise**, `Phys. Rev. Lett. 59, 381(1987)` los autores modelaron una pila de arena mediante un aut\u00f3mata celular de dos dimensiones.\n",
      "    \n",
      "    En este modelo, se construye un arreglo de dos dimensiones en el que cada celda es una columna de arena.\n",
      "    \n",
      "    Implemente el modelo, haga simulaciones en una pila de $200 \\times 200$. Muestre varios patrones para cada nivel de estados inestables.\n",
      "    \n",
      "    Explique el concepto de _self-organized criticality_. Muestre los datos que soportan su explicaci\u00f3n.\n",
      "    \n",
      "    \n"
     ]
    },
    {
     "cell_type": "markdown",
     "metadata": {},
     "source": [
      "\"\"\""
     ]
    },
    {
     "cell_type": "code",
     "collapsed": false,
     "input": [
      "!cat PilaArena2D.py"
     ],
     "language": "python",
     "metadata": {},
     "outputs": [
      {
       "output_type": "stream",
       "stream": "stdout",
       "text": [
        "class montonArena:\r\n",
        "    \r\n",
        "    def __init__ (self, L):\r\n",
        "        self.L=L\r\n",
        "        self.array=self.startRandom()\r\n",
        "        self.pendienteCritica=15\r\n",
        "        \r\n",
        "    def dinamicaArena(self):\r\n",
        "        aux=np.zeros((self.L, self.L))\r\n",
        "        bandera=True\r\n",
        "        j=1\r\n",
        "        while bandera==True:\r\n",
        "            for i in xrange(1, self.L-1):\r\n",
        "                if j==self.L-1:\r\n",
        "                    bandera=False\r\n",
        "                else:\r\n",
        "                    pendiente=self.array[i,j]+self.array[i,j+1]\r\n",
        "                    pendiente+=self.array[i, j-1]\r\n",
        "                    pendiente+=self.array[i+1, j]\r\n",
        "                    pendiente+=self.array[i-1, j-1]\r\n",
        "                    if pendiente>self.pendienteCritica:\r\n",
        "                        bandera=False\r\n",
        "                    \"\"\"la bandera es para sacarte del while, porque tiene que checar que la pila completa sea estable/inestable\"\"\"\r\n",
        "            j+=1\r\n",
        "        if pendiente>self.pendienteCritica:\r\n",
        "            for j in xrange(0, self.L, 1):\r\n",
        "                for i in xrange(0,self.L-1,1):\r\n",
        "                    aux[j,i]=self.array[j,i]-1\r\n",
        "                    aux[j,i+1]=self.array[j,i+1]+1\r\n",
        "                \"\"\"\r\n",
        "                se desparrama\r\n",
        "                \"\"\"\r\n",
        "            self.array=aux\r\n",
        "        else:\r\n",
        "            \"\"\"\r\n",
        "            crece\r\n",
        "            \"\"\"\r\n",
        "            pass\r\n",
        "            \r\n",
        "    def a(self):\r\n",
        "        return self.array\r\n",
        "    \r\n",
        "     \"\"\"\r\n",
        "    codigo siguiente copiado de lo de clase, y modificado para 2 dimensiones\r\n",
        "    \"\"\"\r\n",
        "    def startSingle(self):\r\n",
        "        \"\"\"solo un granito de arena/fuego a la mitad del arreglo\"\"\"\r\n",
        "        self.array[self.L/2, self.L/2] = 1\r\n",
        "\r\n",
        "    def startRandom(self):\r\n",
        "        \"\"\"Valores aleatorios en el tiempo t_0\"\"\"\r\n",
        "        array=np.zeros([self.L, self.L])\r\n",
        "        for i in xrange(0,self.L,1):\r\n",
        "            for j in xrange(0, self.L,1):\r\n",
        "                array[i,j]=randint(1,10)\r\n",
        "        return array\r\n",
        "        \r\n",
        "    def loop(self, steps=1):\r\n",
        "        \"\"\"Ejecuta el n\ufffd\ufffdmero especificado de pasos.\"\"\"\r\n",
        "        [self.step() for i in xrange(steps)]\r\n",
        "\r\n",
        "    def step(self):\r\n",
        "        \"\"\"Avanza un paso t -> t+1.\"\"\"\r\n",
        "        pass"
       ]
      }
     ],
     "prompt_number": 1
    },
    {
     "cell_type": "markdown",
     "metadata": {},
     "source": [
      "**Lo que falta:**\n",
      "* Recolectar los datos para ver la estructura de la autoorganizaci\u00f3n\n",
      "* Arreglar AutomataCelular2D (para que la pila y el incendio puedan heredar bien)\n",
      "* Terminar el c\u00f3digo"
     ]
    },
    {
     "cell_type": "heading",
     "level": 2,
     "metadata": {},
     "source": [
      "Incendio forestal"
     ]
    },
    {
     "cell_type": "markdown",
     "metadata": {},
     "source": [
      "* \n",
      "\n",
      "    En _Bak, Chen and Tang_ **A forest-fire  model  and  some  thoughts  on  turbulence**,  `Phys. Lett. A 147, 297-300 (1990)`, los autores crearon un aut\u00f3mata celular probabil\u00edstico para modelar como se esparce el fuego en un bosque. El bosque es modelado en un cuadrado de lado $L$ en el que cada celda es un \u00e1rbol que puede estar en tres estados: _vivo_(verde), _quem\u00e1ndose_ (amarillo) y _muerto_ (negro). \n",
      "\n",
      "    La evoluci\u00f3n se determina como sigue:\n",
      "\n",
      "    En el tiempo $t$ se determina el estado de cada celda, en $t+1$ se aplican las tres reglas:\n",
      "\n",
      "        1. Si el \u00e1rbol est\u00e1 vivo se verifican sus vecinos. Si _alg\u00fan_ vecino est\u00e1 en llamas el \u00e1rbol se quema.\n",
      "        2. Si el \u00e1rbol est\u00e1 en llamas, pasa a muerto.\n",
      "        3. Si el \u00e1rbol est\u00e1 muerto, se regenera con una probabilidad $p$.\n",
      "        \n",
      "    Reproduzca los resultados del art\u00edculo, en particular la longitud de la correlaci\u00f3n $\\xi(p)$."
     ]
    },
    {
     "cell_type": "heading",
     "level": 1,
     "metadata": {},
     "source": [
      "Idea General: "
     ]
    },
    {
     "cell_type": "markdown",
     "metadata": {},
     "source": [
      "Para este ejercicio, empleamos dos matrices. Una que llamamos bosque y otra \"aux\". Las inicializamos como matrices de uno y cero respectivamente. Ademas, usamos $f$ como la probabilidad de que un arbol se quemase sin tener vecinos quemandose y usamos $p$ como la probabilidad de que reviva el arbol muerto. \n",
      "\n",
      "Usamos adem\u00e1s, \"i\" y \"j\" para selecci\u00f3nar cada uno de los elementos de la matriz. \n",
      "\n",
      "Cada una de estas decisiones se almacena en una matriz llamada \"aux\". Cuando se termina de recorrer cada espacio de la matriz, aux se convierte en bosque y se termina un tiempo.\n",
      "\n",
      "*^ eso es por simultaneidad (de los automatas celulares)*\n",
      "\n",
      "Se repite dicho proceso cuantos tiempos se desee. De esta forma no se crean t cantidades de matrices sino que una din\u00e1micamente va modific\u00e1ndose.\n",
      "\n",
      "El problema mas complejo es analizar la vecindad. Esto se debe a que dentro de una matriz existen diferentes vecindades analizables dependiendo de la posici\u00f3n encontrada. Por ejemplo, en la posici\u00f3n (0,0) no se puede analizar posiciones anteriores en ninguna entrada. Existen 5 diferentes vecindades. \n",
      "\n",
      "Utilizamos la vecindad que considera las 8 celdas continuas, ya que parec\u00eda mas realista en cuanto a un bosque (No obstante, la vecindad que s\u00f3lo considera 4 celdas hace que el programa se mueva de manera menos uniforme, representando con mayor claridad lo que es un aut\u00f3mata celular, por lo tanto es posible que cambiemos por el de cuatro).\n",
      "\n",
      "Lo m\u00e1s complicado es analizar la vecindad. Esto se debe a que dentro de una matriz existen diferentes vecindades analizables dependiendo de la posici\u00f3n encontrada. Por ejemplo, en la posici\u00f3n (0,0) no se puede analizar posiciones anteriores en ninguna entrada. Existen 5 diferentes vecindades (utilizamos la vecindad de ... la que considera las 8 celdas continuas):\n",
      "\n",
      "Las zonas de la matriz donde no pueden tomarse las 8 celdas continuas (porque no hay) son las siguientes:\n",
      "\n",
      " - (0,0)\n",
      " - (0,i)\n",
      " - (i,0)\n",
      " - (n,n)\n",
      " - (i,i)\n",
      "\n",
      "Donde i representa una locaci\u00f3n cualquiera de la matriz (la cual es de tama\u00f1o $nXn$)."
     ]
    },
    {
     "cell_type": "heading",
     "level": 1,
     "metadata": {},
     "source": [
      "Funciones Empleadas: "
     ]
    },
    {
     "cell_type": "markdown",
     "metadata": {},
     "source": [
      "Debido a la complejidad del problema decidimos crear varias funciones que lleven a cabo las reglas e intentar implementarlas en una clase. Las funciones usadas son las siguientes:"
     ]
    },
    {
     "cell_type": "markdown",
     "metadata": {},
     "source": [
      "$quemaSV(bosque,f,aux,i,j):$ \n",
      "\n",
      "Esta funci\u00f3n determina si el \u00e1rbol se quema de manera aleatoria. La probabilidad de quemarse esta dada por $f$. Las matriz $bosque$ es la matriz que dicta el resultado y la matriz $aux$ es donde los resultados son aplicados. Asi mismo, $i$ y $j$ representan el punto de la matriz. "
     ]
    },
    {
     "cell_type": "markdown",
     "metadata": {},
     "source": [
      "$revive(bosque,p,aux,i,j):$\n",
      "\n",
      "Esta funcion determina si el \u00e1rbol revive de manera aleatoria. Instanciamos $p$ como la probabilidad de que suceda."
     ]
    },
    {
     "cell_type": "markdown",
     "metadata": {},
     "source": [
      "$muere(bosque,aux,i,j):$\n",
      " \n",
      "Esta funci\u00f3n hace que todo \u00e1rbol que se este quemando, pase a muerto en el siguiente tiempo. "
     ]
    },
    {
     "cell_type": "markdown",
     "metadata": {},
     "source": [
      "$fuego(bosque,aux,i,j,n):$\n",
      "\n",
      "Esta funci\u00f3n debe de checar si algun vecino del \u00e1rbol esta quemandose. \n",
      "Dado que si haya al menos uno, el arbol empezar\u00e1 a quemarse en el siguiente turno. "
     ]
    },
    {
     "cell_type": "markdown",
     "metadata": {},
     "source": [
      "$Clase$  $\"IncendioForestal\"$\n",
      "\n",
      "Esta clase incluye todas las funciones para crear el incendio forestal.\n",
      "Al final se imprime el bosque original, el contador aumenta y el bosque auxiliar se vuelve el original, \n",
      "para as\u00ed repetir nuevamente el programa. \n",
      "El tiempo es lo que representa la cantidad deveces que esta funci\u00f3n corre (esto es, la cantidad de veces\n",
      "que la matriz bosque es reemplazada por la nueva matriz aux). "
     ]
    },
    {
     "cell_type": "code",
     "collapsed": false,
     "input": [
      "!cat IncendioForestal.py"
     ],
     "language": "python",
     "metadata": {},
     "outputs": [
      {
       "output_type": "stream",
       "stream": "stdout",
       "text": [
        "class incendioForestal:\r\n",
        "    \r\n",
        "    def __init__(self,L):\r\n",
        "        self.bosque=np.ones((L,L))\r\n",
        "        self.p=0.7\r\n",
        "    \r\n",
        "   def muere(self,aux,i,j):\r\n",
        "    # Esta funci\ufffd\ufffdn cumple que el arbol muera si se esta quemando.\r\n",
        "\r\n",
        "        if self.bosque[i,j]==2:\r\n",
        "            aux[i,j] = 0\r\n",
        "        else:\r\n",
        "            aux[i,j] = self.bosque[i,j]\r\n",
        "\r\n",
        "        return aux[i,j]\r\n",
        "    \r\n",
        "    def revive(self,aux,i,j):\r\n",
        "    # Esta funci\ufffd\ufffdn determina si el arbol revive de manera aleatoria. \r\n",
        "    # La probabilidad de revivir esta dada por p.\r\n",
        "\r\n",
        "        if self.bosque[i,j] == 0 and 0.01*randint(0,100)<=self.p: #por que no random.random()\r\n",
        "            aux[i,j]= 1\r\n",
        "        else:\r\n",
        "            aux[i,j] = self.bosque[i,j]\r\n",
        "\r\n",
        "        return aux[i,j]\r\n",
        "    \r\n",
        "    def fuego(self,aux,i,j): #vecinos\r\n",
        "        if bosque[i,j+1]==2 or bosque[i+1,j+1]==2 or bosque[i+1,j]==2 or bosque[i-1,j]==2 or bosque[i,j-1]==2 or bosque[i-1,j-1]==2 or bosque[i+1,j-1]==2 or bosque[i-1,j+1]:\r\n",
        "            aux[i,j] = 2                      \r\n",
        "        else: \r\n",
        "            aux[i,j] = 1\r\n",
        "\r\n",
        "        return aux[i,j]\r\n",
        "\r\n",
        "    \r\n",
        "    def incendio(self):\r\n",
        "    \"\"\"\r\n",
        "    esto es un solo paso, una sola unidad de tiempo\r\n",
        "    \"\"\"\r\n",
        "        aux =np.zeros((self.L,self.L))\r\n",
        "    \r\n",
        "        for i in xrange(1,self.L-1):\r\n",
        "            for j in xrange(1,self.L-1):\r\n",
        "                if bosque[i,j]==1:\r\n",
        "                    fuego(aux,i,j,)\r\n",
        "                elif bosque[i,j]==2:\r\n",
        "                    muere(aux,i,j)\r\n",
        "                elif bosque[i,j]==0:\r\n",
        "                    revive(aux,i,j)\r\n",
        "                    \r\n",
        "        self.bosque=aux\r\n",
        "    \r\n",
        "    def loop(self, steps=10):\r\n",
        "        \"\"\"Ejecuta el n\ufffd\ufffdmero especificado de pasos.\"\"\"\r\n",
        "        [self.step() for i in xrange(steps)]\r\n",
        "\r\n",
        "    def step(self):\r\n",
        "        \"\"\"Avanza un paso t -> t+1.\"\"\"\r\n",
        "        self.incendio()"
       ]
      }
     ],
     "prompt_number": 3
    },
    {
     "cell_type": "markdown",
     "metadata": {},
     "source": [
      "**Lo que falta:**\n",
      "* Usar un slider para ver el cambio al modificar p\n",
      "* Implementar un an\u00e1lisis en las celdas para observar, en promedio, c\u00faantas veces se quema, revive o muere el \u00e1rbol\n",
      "* A trav\u00e9s de imshow modificar los n\u00fameros a colores y en general que se vea bien\n",
      "* Intentar implementarlo para matrices grandes y con muchos tiempos para poder observar las estructuras que se forman"
     ]
    }
   ],
   "metadata": {}
  }
 ]
}