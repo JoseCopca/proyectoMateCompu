{
 "metadata": {
  "name": "",
  "signature": "sha256:c397e836789624f2abfee90764dfa2768dc4f506eae5ffceec066a2d17fb90ba"
 },
 "nbformat": 3,
 "nbformat_minor": 0,
 "worksheets": [
  {
   "cells": [
    {
     "cell_type": "code",
     "collapsed": false,
     "input": [
      "import numpy as np\n",
      "from random import randint"
     ],
     "language": "python",
     "metadata": {},
     "outputs": [],
     "prompt_number": 3
    },
    {
     "cell_type": "heading",
     "level": 1,
     "metadata": {},
     "source": [
      " Auto-organizaci\u00f3n cr\u00edtica"
     ]
    },
    {
     "cell_type": "markdown",
     "metadata": {},
     "source": [
      "**\u00bfQu\u00e9 es eso?**\n",
      "\n",
      "Es un concepto planteado por  Bak, Tang, y Wiesenfeld para explicar sistemas (como los que tienen ruido $1/f$ que exhiben correlaciones de poder-ley en tiempo y espacio.\n",
      "\n",
      "\n",
      "La idea central de la auto-organizaci\u00f3n cr\u00edtica, es que todos los eventos en un sistema se explican por la interacci\u00f3n de los elementos del mismo sin intervenci\u00f3n externa, se ahi surge cierta estructura. Pero en general, la definici\u00f3n depende de que es lo que estas modelando."
     ]
    },
    {
     "cell_type": "heading",
     "level": 2,
     "metadata": {},
     "source": [
      "Pila de arena de una dimensi\u00f3n"
     ]
    },
    {
     "cell_type": "markdown",
     "metadata": {},
     "source": [
      "* \n",
      "\n",
      "    Sea un arreglo unidimensional de `L` columnas de granos de arena con alturas $h_i$. En cada columna definimos su _pendiente_ local como\n",
      "    \n",
      "    $$\n",
      "    s_i = h_i - h_{i+1}\n",
      "    $$\n",
      "    \n",
      "    Definimos tambi\u00e9n la _pendiente cr\u00edtica_ $s_c$: La pila es inestable si $s_i > s_c$, para cualquier columna $i$.\n",
      "    \n",
      "    La regla de actualizaci\u00f3n (_din\u00e1mica_), es: Si la pila es inestable, $s_i > s_c$, entonces $h_i \\to h_i - 1$ y $h_{i+1} \\to h_{i+1} + 1$. Esto se debe de hacer de manera _sincr\u00f3nica_ en todas las columnas. Si la pila es estable, agrega *un* grano de arena a una columna al azar.\n",
      "    \n",
      "    Muestra la evoluci\u00f3n. Progr\u00e1malo como un aut\u00f3mata celular.\n",
      "    \n",
      "    _Hint_ Para los extremos considera dos escenarios: Pared fija o bordes abiertos (como si se cayeran de la mesa). \u00bfEn que cambia la simulaci\u00f3n?\n",
      "    "
     ]
    },
    {
     "cell_type": "markdown",
     "metadata": {},
     "source": [
      "\"\"\""
     ]
    },
    {
     "cell_type": "markdown",
     "metadata": {},
     "source": [
      "La sincronia se logra utilizando una arreglo auxiliar en el que se almacenan los cambios (que la pila de arena se desparrame), al finalizar el an\u00e1lisis esta auxiliar se converte en el nuevo estado del automata celular. "
     ]
    },
    {
     "cell_type": "code",
     "collapsed": false,
     "input": [
      "class AutomataCelular1D:\n",
      "    \n",
      "    def __init__ (self, L, n=1):\n",
      "        \"\"\" \n",
      "        L es el numero de columnas que hay\n",
      "        \"\"\"\n",
      "        self.L = L\n",
      "        self.n = n\n",
      "        self.array = np.zeros((self.n,self.L))\n",
      "        self.pendienteCritica=7\n",
      "    \n",
      "    def dinamicaArena(self):\n",
      "        \"\"\"\n",
      "        dinamica explicada en las instrucciones\n",
      "        \"\"\"\n",
      "        aux=np.zeros((self.n, self.L))\n",
      "        bandera=True\n",
      "        j=0\n",
      "        while bandera:\n",
      "            pendiente=self.array[0,j]+self.array[0,j+1]\n",
      "            if pendiente>self.pendienteCritica or j==self.L-2:\n",
      "                bandera=False   \n",
      "            j+=1\n",
      "        if pendiente>self.pendienteCritica:\n",
      "            for i in xrange(0,self.L-1,1):\n",
      "                aux[0,i]=self.array[0,i]-1\n",
      "                aux[0,i+1]=self.array[0,i+1]+1\n",
      "                \"\"\"\n",
      "                se desparrama\n",
      "                por ahora es circular (ups)\n",
      "                \"\"\"\n",
      "            self.array=aux\n",
      "        else:\n",
      "            \"\"\"\n",
      "            crece\n",
      "            \"\"\"\n",
      "            self.array[0,randint(0,self.L-1)]+=1\n",
      "    \n",
      "    \"\"\"\n",
      "    codigo siguiente modificado de lo que se vi\u00f3 en clase\n",
      "    \"\"\"\n",
      "    def startSingle(self):\n",
      "        \"\"\"solo un granito de arena a la mitad del arreglo\"\"\"\n",
      "        self.array[0, self.L/2] = 1\n",
      "\n",
      "    def startRandom(self):\n",
      "        \"\"\"Valores aleatorios en el tiempo t_0\"\"\"\n",
      "        for i in xrange(0,self.L,1):\n",
      "            self.array[0,i]=randint(1,10)\n",
      "        \n",
      "    def loop(self, steps=10):\n",
      "        \"\"\"Ejecuta el n\u00famero especificado de pasos.\"\"\"\n",
      "        [self.step() for i in xrange(steps)]\n",
      "\n",
      "    def step(self):\n",
      "        \"\"\"Avanza un paso t -> t+1.\"\"\"\n",
      "        self.dinamicaArena()"
     ],
     "language": "python",
     "metadata": {},
     "outputs": [],
     "prompt_number": 52
    },
    {
     "cell_type": "code",
     "collapsed": false,
     "input": [
      "ac=AutomataCelular1D(10)\n",
      "ac.startSingle()\n",
      "print ac.array\n",
      "ac.step()\n",
      "print ac.array"
     ],
     "language": "python",
     "metadata": {},
     "outputs": [
      {
       "output_type": "stream",
       "stream": "stdout",
       "text": [
        "[[ 0.  0.  0.  0.  0.  1.  0.  0.  0.  0.]]\n",
        "[[ 0.  0.  0.  0.  0.  2.  0.  0.  0.  0.]]\n"
       ]
      }
     ],
     "prompt_number": 53
    },
    {
     "cell_type": "code",
     "collapsed": false,
     "input": [
      "ac2=AutomataCelular1D(10)\n",
      "ac2.startRandom()\n",
      "print ac2.array\n",
      "ac2.step()\n",
      "print ac2.array"
     ],
     "language": "python",
     "metadata": {},
     "outputs": [
      {
       "output_type": "stream",
       "stream": "stdout",
       "text": [
        "[[  3.   3.   7.   9.   8.   6.  10.  10.   4.   9.]]\n",
        "[[  2.   2.   6.   8.   7.   5.   9.   9.   3.  10.]]\n"
       ]
      }
     ],
     "prompt_number": 54
    },
    {
     "cell_type": "markdown",
     "metadata": {},
     "source": [
      "**Lo que falta:**\n",
      "* Los extremos, como caja o como mesa"
     ]
    },
    {
     "cell_type": "heading",
     "level": 2,
     "metadata": {},
     "source": [
      "Pila de arena de dos dimensiones"
     ]
    },
    {
     "cell_type": "markdown",
     "metadata": {},
     "source": [
      "* \n",
      "\n",
      "    Una pila de arena m\u00e1s real es de tres dimensiones. En el art\u00edculo _Bak, Tang and Wiesenfel_ **Self-organized criticality:  An explanation of the ** $\\frac{1}{f}$ **noise**, `Phys. Rev. Lett. 59, 381(1987)` los autores modelaron una pila de arena mediante un aut\u00f3mata celular de dos dimensiones.\n",
      "    \n",
      "    En este modelo, se construye un arreglo de dos dimensiones en el que cada celda es una columna de arena.\n",
      "    \n",
      "    Implemente el modelo, haga simulaciones en una pila de $200 \\times 200$. Muestre varios patrones para cada nivel de estados inestables.\n",
      "    \n",
      "    Explique el concepto de _self-organized criticality_. Muestre los datos que soportan su explicaci\u00f3n.\n",
      "    \n",
      "    \n"
     ]
    },
    {
     "cell_type": "markdown",
     "metadata": {},
     "source": [
      "\"\"\""
     ]
    },
    {
     "cell_type": "code",
     "collapsed": false,
     "input": [
      "class AutomataCelular2D: #de aqui van a heredar arena y bosque\n",
      "    \n",
      "    def __init__ (self, L):\n",
      "        \"\"\"\n",
      "        L es el lado del cuadrado\n",
      "        \"\"\"\n",
      "        self.L=L\n",
      "        self.array=self.startRandom()\n",
      "        self.next = 0\n",
      "         \n",
      "    \"\"\"\n",
      "    codigo siguiente copiado de lo de clase, y modificado para 2 dimensiones\n",
      "    \"\"\"\n",
      "    #falta modificar\n",
      "    def startSingle(self):\n",
      "        \"\"\"solo un granito de arena/fuego a la mitad del arreglo\"\"\"\n",
      "        self.array[self.L/2, self.L/2] = 1\n",
      "        self.next += 1\n",
      "\n",
      "    def startRandom(self):\n",
      "        \"\"\"Valores aleatorios en el tiempo t_0\"\"\"\n",
      "        array=np.zeros([self.L, self.L])\n",
      "        for i in xrange(0,self.L,1):\n",
      "            for j in xrange(0, self.L,1):\n",
      "                array[i,j]=randint(1,10)\n",
      "        return array\n",
      "        \n",
      "    def loop(self, steps=1):\n",
      "        \"\"\"Ejecuta el n\u00famero especificado de pasos.\"\"\"\n",
      "        [self.step() for i in xrange(steps)]\n",
      "\n",
      "    def step(self):\n",
      "        \"\"\"Avanza un paso t -> t+1.\"\"\"\n",
      "        pass"
     ],
     "language": "python",
     "metadata": {},
     "outputs": [],
     "prompt_number": 5
    },
    {
     "cell_type": "code",
     "collapsed": false,
     "input": [
      "class montonArena(AutomataCelular2D):\n",
      "    def __init__ (self, L):\n",
      "        AutomataCelular2D.__init__(self, L)\n",
      "        self.pendienteCritica=10\n",
      "        self.next=0\n",
      "    def dinamicaArena(self):\n",
      "        aux=np.zeros((self.L, self.L))\n",
      "        bandera=True\n",
      "        j=1\n",
      "        pendienteAlta=0\n",
      "        pendiente=0\n",
      "        while (bandera==True):\n",
      "            if j==self.L-1:\n",
      "                bandera=False\n",
      "            else:\n",
      "                for i in xrange(1, self.L,1):\n",
      "                    if i==self.L-1:\n",
      "                        pendiente=self.array[j,i]+self.array[j+1,i]\n",
      "                        pendiente+=self.array[j,i]+self.array[j-1,i]\n",
      "                        pendiente+=self.array[j,i]+self.array[j,i-1]\n",
      "                        if pendiente>self.pendienteCritica:\n",
      "                            bandera=False\n",
      "                            pendienteAlta=pendiente\n",
      "                    else:\n",
      "                        pendiente=self.Pendiente_columna(j, i)\n",
      "                        if pendiente>self.pendienteCritica:\n",
      "                            bandera=False\n",
      "                            pendienteAlta=pendiente\n",
      "                    \"\"\"la bandera es para sacarte del while, porque tiene que checar que la pila completa sea estable/inestable\"\"\"\n",
      "            j+=1\n",
      "        if pendienteAlta>self.pendienteCritica:\n",
      "            for j in xrange(0, self.L, 1):\n",
      "                for i in xrange(0,self.L,1):\n",
      "                    if i==self.L-1:\n",
      "                        if self.array[j,i]>0:\n",
      "                            aux[j,i]=self.array[j,i]-1\n",
      "                    if i<self.L-1:\n",
      "                        if self.array[j,i]>0:\n",
      "                            aux[j,i]=self.array[j,i]-1\n",
      "                        aux[j,i+1]=self.array[j,i+1]+1\n",
      "            self.array=aux\n",
      "            print self.array\n",
      "            self.dinamicaArena()\n",
      "        else:\n",
      "            print 'estable'\n",
      "            print self.array\n",
      "            \n",
      "    def Pendiente_columna(self, j, i):\n",
      "        pendiente=self.array[j,i]+self.array[j,i+1]\n",
      "        pendiente+=self.array[j, i-1]\n",
      "        pendiente+=self.array[j+1, i]\n",
      "        pendiente+=self.array[j-1, i]\n",
      "        return pendiente\n",
      "    \n",
      "    def a(self):\n",
      "        return self.array"
     ],
     "language": "python",
     "metadata": {},
     "outputs": [],
     "prompt_number": 6
    },
    {
     "cell_type": "code",
     "collapsed": false,
     "input": [
      "prueba=montonArena(5)\n",
      "print prueba.a()\n",
      "print prueba.dinamicaArena()"
     ],
     "language": "python",
     "metadata": {},
     "outputs": [
      {
       "output_type": "stream",
       "stream": "stdout",
       "text": [
        "[[  5.   6.   6.   4.   6.]\n",
        " [  4.   3.   8.   7.  10.]\n",
        " [  8.   5.   8.   6.   5.]\n",
        " [  8.   8.   1.   2.   7.]\n",
        " [  8.   1.   6.   3.   6.]]\n",
        "[[ 4.  5.  5.  3.  5.]\n",
        " [ 3.  2.  7.  6.  9.]\n",
        " [ 7.  4.  7.  5.  4.]\n",
        " [ 7.  7.  0.  1.  6.]\n",
        " [ 7.  0.  5.  2.  5.]]\n",
        "[[ 3.  4.  4.  2.  4.]\n",
        " [ 2.  1.  6.  5.  8.]\n",
        " [ 6.  3.  6.  4.  3.]\n",
        " [ 6.  6.  1.  0.  5.]\n",
        " [ 6.  1.  4.  1.  4.]]\n",
        "[[ 2.  3.  3.  1.  3.]\n",
        " [ 1.  0.  5.  4.  7.]\n",
        " [ 5.  2.  5.  3.  2.]\n",
        " [ 5.  5.  0.  1.  4.]\n",
        " [ 5.  0.  3.  0.  3.]]\n",
        "[[ 1.  2.  2.  0.  2.]\n",
        " [ 0.  1.  4.  3.  6.]\n",
        " [ 4.  1.  4.  2.  1.]\n",
        " [ 4.  4.  1.  0.  3.]\n",
        " [ 4.  1.  2.  1.  2.]]\n",
        "[[ 0.  1.  1.  1.  1.]\n",
        " [ 0.  0.  3.  2.  5.]\n",
        " [ 3.  0.  3.  1.  0.]\n",
        " [ 3.  3.  0.  1.  2.]\n",
        " [ 3.  0.  1.  0.  1.]]\n",
        "[[ 0.  0.  0.  0.  0.]\n",
        " [ 0.  1.  2.  1.  4.]\n",
        " [ 2.  1.  2.  0.  1.]\n",
        " [ 2.  2.  1.  0.  1.]\n",
        " [ 2.  1.  0.  1.  0.]]\n",
        "[[ 0.  1.  1.  1.  1.]\n",
        " [ 0.  0.  1.  0.  3.]\n",
        " [ 1.  0.  1.  1.  0.]\n",
        " [ 1.  1.  0.  1.  0.]\n",
        " [ 1.  0.  1.  0.  1.]]\n",
        "estable\n",
        "[[ 0.  1.  1.  1.  1.]\n",
        " [ 0.  0.  1.  0.  3.]\n",
        " [ 1.  0.  1.  1.  0.]\n",
        " [ 1.  1.  0.  1.  0.]\n",
        " [ 1.  0.  1.  0.  1.]]\n",
        "None\n"
       ]
      }
     ],
     "prompt_number": 23
    },
    {
     "cell_type": "markdown",
     "metadata": {},
     "source": [
      "**Lo que falta:**\n",
      "* Recolectar los datos para ver la estructura de la autoorganizaci\u00f3n\n",
      "* Arreglar AutomataCelular2D (para que la pila y el incendio puedan heredar bien)\n",
      "* Terminar el c\u00f3digo"
     ]
    },
    {
     "cell_type": "heading",
     "level": 2,
     "metadata": {},
     "source": [
      "Incendio forestal"
     ]
    },
    {
     "cell_type": "markdown",
     "metadata": {},
     "source": [
      "* \n",
      "\n",
      "    En _Bak, Chen and Tang_ **A forest-fire  model  and  some  thoughts  on  turbulence**,  `Phys. Lett. A 147, 297-300 (1990)`, los autores crearon un aut\u00f3mata celular probabil\u00edstico para modelar como se esparce el fuego en un bosque. El bosque es modelado en un cuadrado de lado $L$ en el que cada celda es un \u00e1rbol que puede estar en tres estados: _vivo_(verde), _quem\u00e1ndose_ (amarillo) y _muerto_ (negro). \n",
      "\n",
      "    La evoluci\u00f3n se determina como sigue:\n",
      "\n",
      "    En el tiempo $t$ se determina el estado de cada celda, en $t+1$ se aplican las tres reglas:\n",
      "\n",
      "        1. Si el \u00e1rbol est\u00e1 vivo se verifican sus vecinos. Si _alg\u00fan_ vecino est\u00e1 en llamas el \u00e1rbol se quema.\n",
      "        2. Si el \u00e1rbol est\u00e1 en llamas, pasa a muerto.\n",
      "        3. Si el \u00e1rbol est\u00e1 muerto, se regenera con una probabilidad $p$.\n",
      "        \n",
      "    Reproduzca los resultados del art\u00edculo, en particular la longitud de la correlaci\u00f3n $\\xi(p)$."
     ]
    },
    {
     "cell_type": "markdown",
     "metadata": {},
     "source": [
      "\"\"\""
     ]
    },
    {
     "cell_type": "markdown",
     "metadata": {},
     "source": [
      "El problema mas complejo es analizar la vecindad. Esto se debe a que dentro de una matriz existen diferentes vecindades analizables dependiendo de la posici\u00f3n encontrada. Por ejemplo, en la posici\u00f3n (0,0) no se puede analizar posiciones anteriores en ninguna entrada. Existen 5 diferentes vecindades. \n",
      "\n",
      "Utilizamos la vecindad que considera las 8 celdas continuas, ya que parec\u00eda mas realista en cuanto a un bosque (No obstante, la vecindad que s\u00f3lo considera 4 celdas hace que el programa se mueva de manera menos uniforme, por lo tanto es posible que cambiemos por el de cuatro).\n",
      "\n",
      "Lo m\u00e1s complicado es analizar la vecindad. Esto se debe a que dentro de una matriz existen diferentes vecindades analizables dependiendo de la posici\u00f3n encontrada. Por ejemplo, en la posici\u00f3n (0,0) no se puede analizar posiciones anteriores en ninguna entrada. Existen 5 diferentes vecindades (utilizamos la vecindad de ... la que considera las 8 celdas continuas):\n",
      "\n",
      "Las zonas de la matriz donde no pueden tomarse las 8 celdas continuas (porque no hay) son las siguientes:\n",
      "\n",
      " - (0,0)\n",
      " - (0,i)\n",
      " - (i,0)\n",
      " - (n,n)\n",
      " - (i,i)\n",
      "\n",
      "Donde i representa una locaci\u00f3n cualquiera de la matriz (la cual es de tama\u00f1o $nXn$)."
     ]
    },
    {
     "cell_type": "code",
     "collapsed": false,
     "input": [
      "class incendioForestal: #sin heredar\n",
      "    \n",
      "    def __init__(self,L):\n",
      "        self.L=L\n",
      "        self.bosque=np.ones((L,L))\n",
      "        self.p=0.7\n",
      "        self.f=0.1\n",
      "    \n",
      "    def muere(self,aux,i,j):\n",
      "    # Esta funci\u00f3n cumple que el arbol muera si se esta quemando.\n",
      "        if self.bosque[i,j]==2:\n",
      "            aux[i,j] = 0\n",
      "        else:\n",
      "            aux[i,j] = self.bosque[i,j]\n",
      "\n",
      "        return aux[i,j]\n",
      "    \n",
      "    def revive(self,aux,i,j):\n",
      "    # Esta funci\u00f3n determina si el arbol revive de manera aleatoria. \n",
      "    # La probabilidad de revivir esta dada por p.\n",
      "\n",
      "        if self.bosque[i,j] == 0 and 0.01*randint(0,100)<=self.p: #por que no random.random()\n",
      "            aux[i,j]= 1\n",
      "        else:\n",
      "            aux[i,j] = self.bosque[i,j]\n",
      "\n",
      "        return aux[i,j]\n",
      "    \n",
      "    def fuego(self,aux,i,j): #vecinos\n",
      "        if self.bosque[i,j+1]==2 or self.bosque[i+1,j+1]==2 or self.bosque[i+1,j]==2 or self.bosque[i-1,j]==2 or self.bosque[i,j-1]==2 or self.bosque[i-1,j-1]==2 or self.bosque[i+1,j-1]==2 or self.bosque[i-1,j+1]:\n",
      "            aux[i,j] = 2                      \n",
      "        else: \n",
      "            aux[i,j] = 1\n",
      "\n",
      "        return aux[i,j]\n",
      "    \n",
      "    def quemaSV(self,aux,i,j):\n",
      "\n",
      "        if self.bosque[i,j]==1 and 0.01*randint(0,100)<=self.f:\n",
      "            aux[i,j] = 2\n",
      "        else:\n",
      "            aux[i,j] = self.bosque[i,j]\n",
      "\n",
      "        return aux[i,j]\n",
      "    \n",
      "    def incendio(self):\n",
      "    #esto es un solo paso, una sola unidad de tiempo\n",
      "        aux =np.zeros((self.L,self.L))\n",
      "    \n",
      "        for i in xrange(1,self.L-1):\n",
      "            for j in xrange(1,self.L-1):\n",
      "                if self.bosque[i,j]==1:\n",
      "                    self.fuego(aux,i,j,)\n",
      "                    self.quemaSV(aux,i,j)\n",
      "                elif self.bosque[i,j]==2:\n",
      "                    self.muere(aux,i,j)\n",
      "                elif self.bosque[i,j]==0:\n",
      "                    self.revive(aux,i,j)\n",
      "                    \n",
      "        self.bosque=aux\n",
      "    \n",
      "    def loop(self, steps=10):\n",
      "        \"\"\"Ejecuta el n\u00famero especificado de pasos.\"\"\"\n",
      "        [self.step() for i in xrange(steps)]\n",
      "\n",
      "    def step(self):\n",
      "        \"\"\"Avanza un paso t -> t+1.\"\"\"\n",
      "        self.incendio()\n"
     ],
     "language": "python",
     "metadata": {},
     "outputs": [],
     "prompt_number": 37
    },
    {
     "cell_type": "code",
     "collapsed": false,
     "input": [
      "inf=incendioForestal(5)\n",
      "print inf.bosque\n",
      "inf.step()\n",
      "print inf.bosque\n",
      "inf.step()\n",
      "print inf.bosque"
     ],
     "language": "python",
     "metadata": {},
     "outputs": [
      {
       "output_type": "stream",
       "stream": "stdout",
       "text": [
        "[[ 1.  1.  1.  1.  1.]\n",
        " [ 1.  1.  1.  1.  1.]\n",
        " [ 1.  1.  1.  1.  1.]\n",
        " [ 1.  1.  1.  1.  1.]\n",
        " [ 1.  1.  1.  1.  1.]]\n",
        "[[ 0.  0.  0.  0.  0.]\n",
        " [ 0.  1.  1.  1.  0.]\n",
        " [ 0.  1.  1.  1.  0.]\n",
        " [ 0.  1.  1.  1.  0.]\n",
        " [ 0.  0.  0.  0.  0.]]\n",
        "[[ 0.  0.  0.  0.  0.]\n",
        " [ 0.  2.  1.  1.  0.]\n",
        " [ 0.  1.  1.  1.  0.]\n",
        " [ 0.  1.  1.  2.  0.]\n",
        " [ 0.  0.  0.  0.  0.]]\n"
       ]
      }
     ],
     "prompt_number": 39
    },
    {
     "cell_type": "markdown",
     "metadata": {},
     "source": [
      "**Lo que falta:**\n",
      "* Usar un slider para ver el cambio al modificar p\n",
      "* Implementar un an\u00e1lisis en las celdas para observar, en promedio, c\u00faantas veces se quema, revive o muere el \u00e1rbol\n",
      "* A trav\u00e9s de imshow modificar los n\u00fameros a colores y en general que se vea bien\n",
      "* Intentar implementarlo para matrices grandes y con muchos tiempos para poder observar las estructuras que se forman"
     ]
    }
   ],
   "metadata": {}
  }
 ]
}