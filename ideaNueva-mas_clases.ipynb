{
 "metadata": {
  "name": "",
  "signature": "sha256:cb18969fcf5bec14e6c2857838d40cbe8e9413a261423a7de4db80e28f965550"
 },
 "nbformat": 3,
 "nbformat_minor": 0,
 "worksheets": [
  {
   "cells": [
    {
     "cell_type": "code",
     "collapsed": false,
     "input": [
      "import numpy as np"
     ],
     "language": "python",
     "metadata": {},
     "outputs": [],
     "prompt_number": 1
    },
    {
     "cell_type": "code",
     "collapsed": false,
     "input": [
      "from random import randint"
     ],
     "language": "python",
     "metadata": {},
     "outputs": [],
     "prompt_number": 2
    },
    {
     "cell_type": "code",
     "collapsed": false,
     "input": [
      "class Cell:\n",
      "    def __init__(self,i, state):\n",
      "        self.i=i\n",
      "        self.state=state\n",
      "        self.maxV=5\n",
      "    \"\"\"    \n",
      "    def nuevoEstado(self,estadoActual, sc, n): \n",
      "        if i==0:\n",
      "            if self.state-estadoActual[i+1]>sc:\n",
      "                self.state-=1;\n",
      "        elif i==(estado.size-1):\n",
      "            if estadoActual[i-1]-self.state>sc:\n",
      "                #state=state<maxV ? state+1:maxV\n",
      "        else:\n",
      "            if self.state-estadoActual[i+1]>sc:\n",
      "                self.state-=1\n",
      "            if estadoActual[i-1]-self.state>sc:\n",
      "                #state=state<maxV ? state+1: maxV\n",
      "    \"\"\"\n",
      "                \n",
      "    def nuevoEstadoMesa(self,estadoActual,sc):#estadoActual le pasa el de junto, el mismo y el del otro lado\n",
      "        if self.state-estadoActual[2]>sc:\n",
      "            self.state-=1\n",
      "        if estadoActual[0]-self.state>sc:\n",
      "            self.state+=1\n",
      "    \n",
      "    def nuevoEstado(self,estadoActual,sc):\n",
      "        if self.state-estadoActual[2]>sc:\n",
      "            self.state-=1\n",
      "            print \"state-2\"\n",
      "        if estadoActual[0]-self.state>sc:\n",
      "            self.state+=1\n",
      "            print \"0-state\"\n",
      "\n",
      "    def agrega(self):\n",
      "        \"\"\"self.state=self.state<maxV ? self.state+1: max\"\"\"\n",
      "        self.state+=1\n",
      "    \n",
      "    def random(self):\n",
      "        self.state=randint(0,5)"
     ],
     "language": "python",
     "metadata": {},
     "outputs": [],
     "prompt_number": 41
    },
    {
     "cell_type": "code",
     "collapsed": false,
     "input": [
      "class PilaArena:\n",
      "    def __init__(self,L):\n",
      "        self.L=L\n",
      "        self.columnas=np.zeros((1,self.L)) #array de objetos?\n",
      "        self.sc=2\n",
      "        self.estadoActual=[]\n",
      "        \n",
      "    def crea(self):\n",
      "        for i in xrange(0,self.L,1):\n",
      "            self.estadoActual.append(Cell(i,0))\n",
      "        \n",
      "    \n",
      "    def dinamica(self):\n",
      "        estatico=self.creaEstadoEstatico()\n",
      "        estable=False\n",
      "        for i in xrange(1,self.L-1,1):\n",
      "            self.estadoActual[i].nuevoEstado(estatico[i-1:i+2],self.sc)\n",
      "                \n",
      "        \n",
      "    def creaEstadoEstatico(self):\n",
      "        estatico=[]\n",
      "        for celda in self.estadoActual:\n",
      "            estatico.append(celda.state)\n",
      "        return estatico\n",
      "    \n",
      "    def toString(self):\n",
      "        imprime=[]\n",
      "        for celda in self.estadoActual:\n",
      "            imprime.append(celda.state)\n",
      "        print imprime\n",
      "        #print self.estadoActual\n",
      "    \n",
      "    def startRandom(self):\n",
      "        for celda in self.estadoActual:\n",
      "            celda.random()\n",
      "        \n",
      "            "
     ],
     "language": "python",
     "metadata": {},
     "outputs": [],
     "prompt_number": 65
    },
    {
     "cell_type": "code",
     "collapsed": false,
     "input": [
      "pa=PilaArena(10)"
     ],
     "language": "python",
     "metadata": {},
     "outputs": [],
     "prompt_number": 80
    },
    {
     "cell_type": "code",
     "collapsed": true,
     "input": [
      "pa.crea()\n",
      "pa.startRandom()\n",
      "pa.toString()"
     ],
     "language": "python",
     "metadata": {},
     "outputs": [
      {
       "output_type": "stream",
       "stream": "stdout",
       "text": [
        "[4, 5, 0, 5, 4, 0, 4, 1, 0, 5]\n"
       ]
      }
     ],
     "prompt_number": 81
    },
    {
     "cell_type": "code",
     "collapsed": false,
     "input": [
      "pa.dinamica()\n",
      "pa.toString()"
     ],
     "language": "python",
     "metadata": {},
     "outputs": [
      {
       "output_type": "stream",
       "stream": "stdout",
       "text": [
        "state-2\n",
        "0-state\n",
        "state-2\n",
        "0-state\n",
        "state-2\n",
        "0-state\n",
        "[4, 4, 1, 5, 3, 1, 3, 2, 0, 5]\n"
       ]
      }
     ],
     "prompt_number": 82
    },
    {
     "cell_type": "code",
     "collapsed": false,
     "input": [
      "lista=[]\n",
      "for i in xrange(0,5,1):\n",
      "    c=Cell(1,0)\n",
      "    lista.append(c)\n",
      "lista[1].state"
     ],
     "language": "python",
     "metadata": {},
     "outputs": [
      {
       "metadata": {},
       "output_type": "pyout",
       "prompt_number": 29,
       "text": [
        "0"
       ]
      }
     ],
     "prompt_number": 29
    },
    {
     "cell_type": "code",
     "collapsed": false,
     "input": [
      "lista2=[]\n",
      "lista2.append(3)\n",
      "lista2.append(4)\n",
      "print lista2\n",
      "lista2.append(5)\n",
      "print lista2"
     ],
     "language": "python",
     "metadata": {},
     "outputs": [
      {
       "output_type": "stream",
       "stream": "stdout",
       "text": [
        "[3, 4]\n",
        "[3, 4, 5]\n"
       ]
      }
     ],
     "prompt_number": 33
    },
    {
     "cell_type": "markdown",
     "metadata": {},
     "source": [
      "\"\"\"\"\"\"\"\"\"\"\"\"\"\"\"\"\"\"\"\"\"\"\"\""
     ]
    },
    {
     "cell_type": "markdown",
     "metadata": {},
     "source": [
      "nada que ver"
     ]
    },
    {
     "cell_type": "code",
     "collapsed": false,
     "input": [
      "n=5\n",
      "array=np.ones((n,n))\n",
      "array"
     ],
     "language": "python",
     "metadata": {},
     "outputs": [
      {
       "metadata": {},
       "output_type": "pyout",
       "prompt_number": 70,
       "text": [
        "array([[ 1.,  1.,  1.,  1.,  1.],\n",
        "       [ 1.,  1.,  1.,  1.,  1.],\n",
        "       [ 1.,  1.,  1.,  1.,  1.],\n",
        "       [ 1.,  1.,  1.,  1.,  1.],\n",
        "       [ 1.,  1.,  1.,  1.,  1.]])"
       ]
      }
     ],
     "prompt_number": 70
    },
    {
     "cell_type": "code",
     "collapsed": false,
     "input": [
      "\n",
      "array[:,0]=0\n",
      "array[0,:]=0\n",
      "array[n-1,:]=0\n",
      "array[:,n-1]=0\n",
      "array"
     ],
     "language": "python",
     "metadata": {},
     "outputs": [
      {
       "metadata": {},
       "output_type": "pyout",
       "prompt_number": 71,
       "text": [
        "array([[ 0.,  0.,  0.,  0.,  0.],\n",
        "       [ 0.,  1.,  1.,  1.,  0.],\n",
        "       [ 0.,  1.,  1.,  1.,  0.],\n",
        "       [ 0.,  1.,  1.,  1.,  0.],\n",
        "       [ 0.,  0.,  0.,  0.,  0.]])"
       ]
      }
     ],
     "prompt_number": 71
    },
    {
     "cell_type": "code",
     "collapsed": false,
     "input": [
      "for i in xrange(1,n-1):\n",
      "    for j in xrange(1,n-1):\n",
      "        array[i,j]=3"
     ],
     "language": "python",
     "metadata": {},
     "outputs": [],
     "prompt_number": 44
    },
    {
     "cell_type": "code",
     "collapsed": false,
     "input": [
      "array"
     ],
     "language": "python",
     "metadata": {},
     "outputs": [
      {
       "metadata": {},
       "output_type": "pyout",
       "prompt_number": 72,
       "text": [
        "array([[ 0.,  0.,  0.,  0.,  0.],\n",
        "       [ 0.,  1.,  1.,  1.,  0.],\n",
        "       [ 0.,  1.,  1.,  1.,  0.],\n",
        "       [ 0.,  1.,  1.,  1.,  0.],\n",
        "       [ 0.,  0.,  0.,  0.,  0.]])"
       ]
      }
     ],
     "prompt_number": 72
    },
    {
     "cell_type": "code",
     "collapsed": false,
     "input": [
      "def checaPendiente(array,i,j):\n",
      "    pendiente=0\n",
      "    for m in xrange(i-1,i+2,1):\n",
      "        for n in xrange(j-1,j+2,1):\n",
      "            if n!=m or -n!=m:\n",
      "                pendiente+=array[m,n]\n",
      "    print pendiente\n",
      "    "
     ],
     "language": "python",
     "metadata": {},
     "outputs": [],
     "prompt_number": 73
    },
    {
     "cell_type": "code",
     "collapsed": false,
     "input": [
      "checaPendiente(array,1,1)"
     ],
     "language": "python",
     "metadata": {},
     "outputs": [
      {
       "output_type": "stream",
       "stream": "stdout",
       "text": [
        "4.0\n"
       ]
      }
     ],
     "prompt_number": 74
    },
    {
     "cell_type": "code",
     "collapsed": false,
     "input": [
      "def checaFuego(array,aux,i,j):\n",
      "    esDos=False\n",
      "    for m in xrange(i-1,i+2,1):\n",
      "        for n in xrange(j-1,j+2,1):\n",
      "            if array[m,n]==2:\n",
      "                esDos=True\n",
      "    aux[i,j]=2\n",
      "    print aux"
     ],
     "language": "python",
     "metadata": {},
     "outputs": [],
     "prompt_number": 63
    },
    {
     "cell_type": "code",
     "collapsed": false,
     "input": [
      "checaFuego(array,array,1,1)"
     ],
     "language": "python",
     "metadata": {},
     "outputs": [
      {
       "output_type": "stream",
       "stream": "stdout",
       "text": [
        "[[ 0.  0.  0.  0.  0.]\n",
        " [ 0.  2.  2.  1.  0.]\n",
        " [ 0.  1.  1.  1.  0.]\n",
        " [ 0.  1.  1.  1.  0.]\n",
        " [ 0.  0.  0.  0.  0.]]\n"
       ]
      }
     ],
     "prompt_number": 69
    },
    {
     "cell_type": "code",
     "collapsed": false,
     "input": [
      "array[1,2]=2\n",
      "array"
     ],
     "language": "python",
     "metadata": {},
     "outputs": [
      {
       "metadata": {},
       "output_type": "pyout",
       "prompt_number": 68,
       "text": [
        "array([[ 0.,  0.,  0.,  0.,  0.],\n",
        "       [ 0.,  1.,  2.,  1.,  0.],\n",
        "       [ 0.,  1.,  1.,  1.,  0.],\n",
        "       [ 0.,  1.,  1.,  1.,  0.],\n",
        "       [ 0.,  0.,  0.,  0.,  0.]])"
       ]
      }
     ],
     "prompt_number": 68
    }
   ],
   "metadata": {}
  }
 ]
}