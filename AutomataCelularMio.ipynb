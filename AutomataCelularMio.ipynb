{
 "metadata": {
  "name": "",
  "signature": "sha256:286e8c0f558eebaa3975acc00530e7c280f450a428947c1a7b639b7c7c672939"
 },
 "nbformat": 3,
 "nbformat_minor": 0,
 "worksheets": [
  {
   "cells": [
    {
     "cell_type": "code",
     "collapsed": false,
     "input": [
      "import numpy as np"
     ],
     "language": "python",
     "metadata": {},
     "outputs": [],
     "prompt_number": 13
    },
    {
     "cell_type": "code",
     "collapsed": false,
     "input": [
      "from random import radint"
     ],
     "language": "python",
     "metadata": {},
     "outputs": []
    },
    {
     "cell_type": "code",
     "collapsed": false,
     "input": [
      "class AutomataCelular1D(object):\n",
      "    \n",
      "    def _init_ (self, L, n=1):\n",
      "        \"\"\" \n",
      "        L es el numero de columnas que hay\n",
      "        \"\"\"\n",
      "        self.L = L\n",
      "        self.n = n\n",
      "        self.array = np.zeros((self.n,self.L), dtype=np.int8)\n",
      "        self.next = 0\n",
      "        self.pendienteCritica=7\n",
      "    \n",
      "    def dinamicaArena(self):\n",
      "        \"\"\"\n",
      "        dinamica explicada en las instrucciones\n",
      "        \"\"\"\n",
      "        aux=np.zeros((self.n, self.L), dtype=np.int8)\n",
      "        while bandera:\n",
      "            pendiente=self.array[j]+self.array[j+1]\n",
      "            if pendiente>self.pendienteCritica or j=L:\n",
      "                bandera=False \"\"\"la bandera es para sacarte del while, porque tiene que checar que la pila completa sea estable/inestable\"\"\"\n",
      "            j+=1\n",
      "        if pendiente>pendienteCritica:\n",
      "            for i in xrange(0,self.L,1):\n",
      "                aux[i]=self.array[i]-1\n",
      "                aux[i]=self.array[i]+1\n",
      "                \"\"\"\n",
      "                se desparrama\n",
      "                \"\"\"\n",
      "            self.array=aux\n",
      "        else:\n",
      "            \"\"\"\n",
      "            crece\n",
      "            \"\"\"\n",
      "            self.array[i+random.radint(0,self.L)]+=1\n",
      "    \n",
      "    \"\"\"\n",
      "    codigo siguiente copiado de lo de clase\n",
      "    \"\"\"\n",
      "    def startSingle(self):\n",
      "        \"\"\"solo un granito de arena a la mitad del arreglo\"\"\"\n",
      "        self.array[0, self.m/2] = 1\n",
      "        self.next += 1\n",
      "\n",
      "    def startRandom(self):\n",
      "        \"\"\"Valores aleatorios en el tiempo t_0\"\"\"\n",
      "        self.array[0] = np.random.random([1,self.m]).round()\n",
      "        self.next += 1\n",
      "        \n",
      "    def loop(self, steps=1):\n",
      "        \"\"\"Ejecuta el n\u00famero especificado de pasos.\"\"\"\n",
      "        [self.step() for i in xrange(steps)]\n",
      "\n",
      "    def step(self):\n",
      "        \"\"\"Avanza un paso t -> t+1.\"\"\"\n",
      "        i = self.next\n",
      "        self.next += 1\n",
      "        self.dinamicaArena()\n"
     ],
     "language": "python",
     "metadata": {},
     "outputs": [],
     "prompt_number": 4
    },
    {
     "cell_type": "code",
     "collapsed": false,
     "input": [
      "L=10\n",
      "n=1\n",
      "ac=AutomataCelular1D(L,n)\n",
      "#ver que onda con los objects..."
     ],
     "language": "python",
     "metadata": {},
     "outputs": [],
     "prompt_number": 10
    },
    {
     "cell_type": "code",
     "collapsed": false,
     "input": [
      "L=10\n",
      "n=1\n",
      "array=np.zeros((n,L))\n",
      "array"
     ],
     "language": "python",
     "metadata": {},
     "outputs": [
      {
       "metadata": {},
       "output_type": "pyout",
       "prompt_number": 14,
       "text": [
        "array([[ 0.,  0.,  0.,  0.,  0.,  0.,  0.,  0.,  0.,  0.]])"
       ]
      }
     ],
     "prompt_number": 14
    },
    {
     "cell_type": "code",
     "collapsed": false,
     "input": [
      "class AutomataCelular2D(object):\n",
      "    "
     ],
     "language": "python",
     "metadata": {},
     "outputs": [],
     "prompt_number": 1
    }
   ],
   "metadata": {}
  }
 ]
}