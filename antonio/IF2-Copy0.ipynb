{
 "metadata": {
  "name": "",
  "signature": "sha256:30cb6a409dece1e3b75897b7d81e75e8aa8930719c4f28c25e7c14ccf78301ef"
 },
 "nbformat": 3,
 "nbformat_minor": 0,
 "worksheets": [
  {
   "cells": [
    {
     "cell_type": "code",
     "collapsed": false,
     "input": [
      "import numpy as np"
     ],
     "language": "python",
     "metadata": {},
     "outputs": [],
     "prompt_number": 72
    },
    {
     "cell_type": "code",
     "collapsed": false,
     "input": [
      "import random"
     ],
     "language": "python",
     "metadata": {},
     "outputs": [],
     "prompt_number": 73
    },
    {
     "cell_type": "code",
     "collapsed": false,
     "input": [
      "def matriz(n):\n",
      "# Funci\u00f3n que genera matrices que representan el bosque. \n",
      "# El auxiliar se utiliza como el parche necesario para insertar\n",
      "# el nuevo bosque. \n",
      "\n",
      "    bosque = np.matrix(np.ones((n,n)))\n",
      "    aux = np.matrix(np.zeros((n,n)))\n",
      "    \n",
      "    return bosque,aux\n"
     ],
     "language": "python",
     "metadata": {},
     "outputs": [],
     "prompt_number": 74
    },
    {
     "cell_type": "code",
     "collapsed": false,
     "input": [
      "def quemaSV(bosque,f,aux,i,j):\n",
      "# Esta funci\u00f3n determina si el arbol se quema de manera aleatoria. \n",
      "# La probabilidad de quemarse esta dada por f.\n",
      "    if bosque[i,j]==1 and 0.01*(random.randint(0,100))<=f:\n",
      "        aux[i,j] == 2\n",
      "    else:\n",
      "        aux[i,j] == bosque[i,j]\n",
      "    \n",
      "    return aux[i,j]\n",
      "                                              \n",
      "            \n"
     ],
     "language": "python",
     "metadata": {},
     "outputs": [],
     "prompt_number": 75
    },
    {
     "cell_type": "code",
     "collapsed": false,
     "input": [
      "def revive(bosque,p,aux,i,j):\n",
      "# Esta funci\u00f3n determina si el arbol revive de manera aleatoria. \n",
      "# La probabilidad de revivir esta dada por p.\n",
      "    \n",
      "    if bosque[i,j] == 0 and 0.01*(random.randint(0,100))<=p:\n",
      "        aux[i,j]== 1\n",
      "    else:\n",
      "        aux[i,j] == bosque[i,j]\n",
      "        \n",
      "    return aux[i,j]\n"
     ],
     "language": "python",
     "metadata": {},
     "outputs": [],
     "prompt_number": 76
    },
    {
     "cell_type": "code",
     "collapsed": false,
     "input": [
      "def muere(bosque,aux,i,j):\n",
      "# Esta funci\u00f3n cumple que el arbol muera si se esta quemando.\n",
      "\n",
      "    if bosque[i,j]==2:\n",
      "        aux[i,j] == 0\n",
      "    else:\n",
      "        aux[i,j] == bosque[i,j]\n",
      "\n",
      "    return aux[i,j]\n"
     ],
     "language": "python",
     "metadata": {},
     "outputs": [],
     "prompt_number": 77
    },
    {
     "cell_type": "code",
     "collapsed": false,
     "input": [
      "def fuego(bosque,aux,i,j,n):\n",
      "# Este programa es el que checa la vecindad del arbol. Si algun vecino se esta quemando\n",
      "# el arbol se quemar\u00e1.\n",
      "\n",
      "                if i==0:\n",
      "                     if j==0:   \n",
      "                        if bosque[i,j+1]==2 or bosque[i+1,j+1]==2 or bosque[i+1,j]==2:\n",
      "                            aux[i,j] == 2\n",
      "                     else:\n",
      "                        if j==n-1:\n",
      "                            if bosque[i+1,j]==2 or bosque[i,j-1]==2 or bosque[i+1,j-1]==2:\n",
      "                                aux[i,j] == 2\n",
      "                        else:\n",
      "                            if bosque[i,j+1]==2 or bosque[i+1,j+1]==2 or bosque[i+1,j]==2 or bosque[i,j-1]==2 or bosque[i+1,j-1]==2:\n",
      "                                aux[i,j] == 2   \n",
      "                else:\n",
      "                    if i==n-1:\n",
      "                        if j==n-1:\n",
      "                            if bosque[i-1,j]==2 or bosque[i,j-1]==2 or bosque[i-1,j-1]==2:\n",
      "                                aux[i,j] == 2\n",
      "                        else:\n",
      "                            if bosque[i,j+1]==2 or bosque[i-1,j]==2 or bosque[i,j-1]==2 or bosque[i-1,j-1]==2 or bosque[i-1,j+1]:\n",
      "                                aux[i,j] == 2\n",
      "                    else:\n",
      "                        if j==0:\n",
      "                            if bosque[i,j+1]==2 or bosque[i+1,j+1]==2 or bosque[i+1,j]==2 or bosque[i-1,j]==2 or bosque[i-1,j+1]:\n",
      "                                aux[i,j] == 2\n",
      "                        else:\n",
      "                            if j==n-1:\n",
      "                                if bosque[i+1,j]==2 or bosque[i-1,j]==2 or bosque[i,j-1]==2 or bosque[i-1,j-1]==2 or bosque[i+1,j-1]==2:\n",
      "                                    aux[i,j] == 2\n",
      "                            else:\n",
      "                                if j==0:\n",
      "                                    if bosque[i,j+1]==2 or bosque[i+1,j+1]==2 or bosque[i+1,j]==2 or bosque[i-1,j]==2 or bosque[i-1,j+1]:\n",
      "                                        aux[i,j] == 2\n",
      "                                else:\n",
      "                                    if bosque[i,j+1]==2 or bosque[i+1,j+1]==2 or bosque[i+1,j]==2 or bosque[i-1,j]==2 or bosque[i,j-1]==2 or bosque[i-1,j-1]==2 or bosque[i+1,j-1]==2 or bosque[i-1,j+1]:\n",
      "                                        aux[i,j] == 2\n",
      "                                        \n",
      "                                    else: \n",
      "                                        aux[i,j] == 1\n"
     ],
     "language": "python",
     "metadata": {},
     "outputs": [],
     "prompt_number": 92
    },
    {
     "cell_type": "code",
     "collapsed": false,
     "input": [
      "def final(n,f,p,tiempo):\n",
      "# Esta funci\u00f3n DEBER\u00cdA de incluir todas las funciones y usarlas para crear el bosque.\n",
      "# No obstante, a\u00fan no funciona correctamente. El tiempo es lo que representa la cantidad de\n",
      "# veces que esta funci\u00f3n debe de correr. El contador solo es para saber cuantas veces fue empleada.\n",
      "# Al final se imprime el bosque original, el contador aumenta y el bosque auxiliar se vuelve el original, \n",
      "# para as\u00ed repetir nuevamente el programa. \n",
      "\n",
      "    contador = 0\n",
      "    bosque = np.matrix(np.ones((n,n)))\n",
      "    aux = np.matrix(np.zeros((n,n)))\n",
      "    \n",
      "    for k in range(0,tiempo):\n",
      "        for i in xrange(0,n):\n",
      "            for j in xrange(0,n):\n",
      "                if bosque[i,j]==1:\n",
      "                    fuego(bosque,aux,i,j,n)\n",
      "                    if bosque[i,j] ==1:\n",
      "                        quemaSV(bosque,f,aux,i,j)\n",
      "                else:\n",
      "                    if bosque[i,j]==2:\n",
      "                        muere(bosque,aux,i,j)\n",
      "                    else:\n",
      "                        if bosque[i,j]==0:\n",
      "                            revive(bosque,p,aux,i,j)\n",
      "                    \n",
      "        print bosque\n",
      "        contador +=1 \n",
      "        print contador\n",
      "        aux = bosque\n",
      "    return bosque"
     ],
     "language": "python",
     "metadata": {},
     "outputs": [],
     "prompt_number": 93
    },
    {
     "cell_type": "code",
     "collapsed": false,
     "input": [
      "final(4,1,0.7,6)"
     ],
     "language": "python",
     "metadata": {},
     "outputs": [
      {
       "output_type": "stream",
       "stream": "stdout",
       "text": [
        "[[ 1.  1.  1.  1.]\n",
        " [ 1.  1.  1.  1.]\n",
        " [ 1.  1.  1.  1.]\n",
        " [ 1.  1.  1.  1.]]\n",
        "1\n",
        "[[ 1.  1.  1.  1.]\n",
        " [ 1.  1.  1.  1.]\n",
        " [ 1.  1.  1.  1.]\n",
        " [ 1.  1.  1.  1.]]\n",
        "2\n",
        "[[ 1.  1.  1.  1.]\n",
        " [ 1.  1.  1.  1.]\n",
        " [ 1.  1.  1.  1.]\n",
        " [ 1.  1.  1.  1.]]\n",
        "3\n",
        "[[ 1.  1.  1.  1.]\n",
        " [ 1.  1.  1.  1.]\n",
        " [ 1.  1.  1.  1.]\n",
        " [ 1.  1.  1.  1.]]\n",
        "4\n",
        "[[ 1.  1.  1.  1.]\n",
        " [ 1.  1.  1.  1.]\n",
        " [ 1.  1.  1.  1.]\n",
        " [ 1.  1.  1.  1.]]\n",
        "5\n",
        "[[ 1.  1.  1.  1.]\n",
        " [ 1.  1.  1.  1.]\n",
        " [ 1.  1.  1.  1.]\n",
        " [ 1.  1.  1.  1.]]\n",
        "6\n"
       ]
      },
      {
       "metadata": {},
       "output_type": "pyout",
       "prompt_number": 96,
       "text": [
        "matrix([[ 1.,  1.,  1.,  1.],\n",
        "        [ 1.,  1.,  1.,  1.],\n",
        "        [ 1.,  1.,  1.,  1.],\n",
        "        [ 1.,  1.,  1.,  1.]])"
       ]
      }
     ],
     "prompt_number": 96
    },
    {
     "cell_type": "code",
     "collapsed": false,
     "input": [],
     "language": "python",
     "metadata": {},
     "outputs": []
    }
   ],
   "metadata": {}
  }
 ]
}