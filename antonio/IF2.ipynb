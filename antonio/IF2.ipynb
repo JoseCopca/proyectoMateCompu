{
 "metadata": {
  "name": "",
  "signature": "sha256:c984bf75856a9f748c3b1d0eb1f14b239e14005401123caa62a3576fefac2985"
 },
 "nbformat": 3,
 "nbformat_minor": 0,
 "worksheets": [
  {
   "cells": [
    {
     "cell_type": "code",
     "collapsed": false,
     "input": [
      "def matriz(n):\n",
      "# Funci\u00f3n que genera matrices que representan el bosque. \n",
      "# El auxiliar se utiliza como el parche necesario para insertar\n",
      "# el nuevo bosque. \n",
      "\n",
      "    bosque = np.matrix(np.ones((n,n)))\n",
      "    aux = np.matrix(np.zeros((n,n)))\n",
      "    \n",
      "    return bosque\n",
      "    return aux\n"
     ],
     "language": "python",
     "metadata": {},
     "outputs": [],
     "prompt_number": 37
    },
    {
     "cell_type": "code",
     "collapsed": false,
     "input": [
      "def quemaSV(bosque,f):\n",
      "# Esta funci\u00f3n determina si el arbol se quema de manera aleatoria. \n",
      "# La probabilidad de quemarse esta dada por f.\n",
      "\n",
      "    random = 0.01*(random.randint(0,100))\n",
      "    if bosque[i,j]==1 and random1<=f:\n",
      "        aux[i,j] == 2\n",
      "    else:\n",
      "        aux[i,j] == bosque[i,j]\n",
      "    \n",
      "    return aux[i,j]\n",
      "                                              \n",
      "            \n"
     ],
     "language": "python",
     "metadata": {},
     "outputs": [],
     "prompt_number": 38
    },
    {
     "cell_type": "code",
     "collapsed": false,
     "input": [
      "def revive(bosque,p):\n",
      "# Esta funci\u00f3n determina si el arbol revive de manera aleatoria. \n",
      "# La probabilidad de revivir esta dada por p.\n",
      "\n",
      "    random = 0.01*(random.randint(0,100))\n",
      "    if bosque[i,j] == 0 and random2<=p:\n",
      "        aux[i,j]== 1\n",
      "    else:\n",
      "        aux[i,j] == bosque[i,j]\n",
      "        \n",
      "    return aux[i,j]\n"
     ],
     "language": "python",
     "metadata": {},
     "outputs": [],
     "prompt_number": 39
    },
    {
     "cell_type": "code",
     "collapsed": false,
     "input": [
      "def muere(bosque):\n",
      "# Esta funci\u00f3n cumple que el arbol muera si se esta quemando.\n",
      "\n",
      "    if bosque[i,j]==2:\n",
      "        aux[i,j] == 0\n",
      "    else:\n",
      "        aux[i,j] == bosque[i,j]\n",
      "\n",
      "    return aux[i,j]\n"
     ],
     "language": "python",
     "metadata": {},
     "outputs": [],
     "prompt_number": 40
    },
    {
     "cell_type": "code",
     "collapsed": false,
     "input": [
      "def fuego(bosque):\n",
      "# Este programa es el que checa la vecindad del arbol. Si algun vecino se esta quemando\n",
      "# el arbol se quemar\u00e1.\n",
      "\n",
      "                if i==0:\n",
      "                     if j==0:   \n",
      "                        if bosque[i,j+1]==2 or bosque[i+1,j+1]==2 or bosque[i+1,j]==2:\n",
      "                            aux[i,j] == 2\n",
      "                     else:\n",
      "                        if j==n:\n",
      "                            if bosque[i+1,j]==2 or bosque[i,j-1]==2 or bosque[i+1,j-1]==2:\n",
      "                                aux[i,j] == 2\n",
      "                        else:\n",
      "                            if bosque[i,j+1]==2 or bosque[i+1,j+1]==2 or bosque[i+1,j]==2 or bosque[i,j-1]==2 or bosque[i+1,j-1]==2:\n",
      "                                aux[i,j] == 2   \n",
      "                else:\n",
      "                    if i==n:\n",
      "                        if j==n:\n",
      "                            if bosque[i-1,j]==2 or bosque[i,j-1]==2 or bosque[i-1,j-1]==2:\n",
      "                                aux[i,j] == 2\n",
      "                        else:\n",
      "                            if bosque[i,j+1]==2 or bosque[i-1,j]==2 or bosque[i,j-1]==2 or bosque[i-1,j-1]==2 or bosque[i-1,j+1]:\n",
      "                                aux[i,j] == 2\n",
      "                    else:\n",
      "                        if j==0:\n",
      "                            if bosque[i,j+1]==2 or bosque[i+1,j+1]==2 or bosque[i+1,j]==2 or bosque[i-1,j]==2 or bosque[i-1,j+1]:\n",
      "                                aux[i,j] == 2\n",
      "                        else:\n",
      "                            if j==n:\n",
      "                                if bosque[i+1,j]==2 or bosque[i-1,j]==2 or bosque[i,j-1]==2 or bosque[i-1,j-1]==2 or bosque[i+1,j-1]==2:\n",
      "                                    aux[i,j] == 2\n",
      "                            else:\n",
      "                                if j==0:\n",
      "                                    if bosque[i,j+1]==2 or bosque[i+1,j+1]==2 or bosque[i+1,j]==2 or bosque[i-1,j]==2 or bosque[i-1,j+1]:\n",
      "                                        aux[i,j] == 2\n",
      "                                else:\n",
      "                                    if bosque[i,j+1]==2 or bosque[i+1,j+1]==2 or bosque[i+1,j]==2 or bosque[i-1,j]==2 or bosque[i,j-1]==2 or bosque[i-1,j-1]==2 or bosque[i+1,j-1]==2 or bosque[i-1,j+1]:\n",
      "                                        aux[i,j] == 2\n",
      "                                        \n",
      "                                    else: \n",
      "                                        aux[i,j] == 1\n"
     ],
     "language": "python",
     "metadata": {},
     "outputs": [],
     "prompt_number": 41
    },
    {
     "cell_type": "code",
     "collapsed": false,
     "input": [
      "def final(n,f,p,tiempo):\n",
      "# Esta funci\u00f3n DEBER\u00cdA de incluir todas las funciones y usarlas para crear el bosque.\n",
      "# No obstante, a\u00fan no funciona correctamente. El tiempo es lo que representa la cantidad de\n",
      "# veces que esta funci\u00f3n debe de correr. El contador solo es para saber cuantas veces fue empleada.\n",
      "# Al final se imprime el bosque original, el contador aumenta y el bosque auxiliar se vuelve el original, \n",
      "# para as\u00ed repetir nuevamente el programa. \n",
      "\n",
      "    contador = 0\n",
      "    def matriz(n):\n",
      "        for k in range(0,tiempo):\n",
      "            for i in xrange(0,n):\n",
      "                for j in xrange(0,n):\n",
      "                    if bosque[i,j]==1:\n",
      "                        def fuego(bosque):\n",
      "                            if bosque[i,j] ==1:\n",
      "                                def quemaSV(bosque,f):\n",
      "                    else:\n",
      "                        if bosque[i,j]==2:\n",
      "                            def muere(bosque):\n",
      "                        else:\n",
      "                            if bosque[i,j]==0:\n",
      "                                def revive(bosque,p):\n",
      "                    \n",
      "    print bosque\n",
      "    contador +=1 \n",
      "    print contador\n",
      "    bosque = aux\n",
      "return bosque"
     ],
     "language": "python",
     "metadata": {},
     "outputs": [
      {
       "ename": "IndentationError",
       "evalue": "expected an indented block (<ipython-input-33-e4179b714902>, line 11)",
       "output_type": "pyerr",
       "traceback": [
        "\u001b[1;36m  File \u001b[1;32m\"<ipython-input-33-e4179b714902>\"\u001b[1;36m, line \u001b[1;32m11\u001b[0m\n\u001b[1;33m    else:\u001b[0m\n\u001b[1;37m    ^\u001b[0m\n\u001b[1;31mIndentationError\u001b[0m\u001b[1;31m:\u001b[0m expected an indented block\n"
       ]
      }
     ],
     "prompt_number": 33
    },
    {
     "cell_type": "code",
     "collapsed": false,
     "input": [],
     "language": "python",
     "metadata": {},
     "outputs": []
    }
   ],
   "metadata": {}
  }
 ]
}