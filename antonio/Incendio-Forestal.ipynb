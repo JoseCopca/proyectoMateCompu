{
 "metadata": {
  "name": "",
  "signature": "sha256:5ce0d360727ed01af7980fa593dacf1663ed5a7e4ce1689317f6310074d1d1e2"
 },
 "nbformat": 3,
 "nbformat_minor": 0,
 "worksheets": [
  {
   "cells": [
    {
     "cell_type": "code",
     "collapsed": false,
     "input": [
      "import numpy as np"
     ],
     "language": "python",
     "metadata": {},
     "outputs": [],
     "prompt_number": 18
    },
    {
     "cell_type": "code",
     "collapsed": false,
     "input": [
      "def matriz(n):\n",
      "    bosque = np.matrix(np.ones((n,n)))\n",
      "    aux = np.matrix(np.zeros((n,n)))"
     ],
     "language": "python",
     "metadata": {},
     "outputs": [],
     "prompt_number": 52
    },
    {
     "cell_type": "code",
     "collapsed": false,
     "input": [
      "def fuego(f,p,loops,n):\n",
      "    bosque = np.matrix(np.ones((n,n)))\n",
      "    aux = np.matrix(np.zeros((n,n)))\n",
      "    contador = 0\n",
      "    for k in range(0,loops):\n",
      "        for i in xrange(0,n-1):\n",
      "            for j in xrange(0,n-1):\n",
      "                if i==0:\n",
      "                     if j==0:   \n",
      "                        if bosque[i,j] == 1 and ( bosque[i,j+1]==2 or bosque[i+1,j+1]==2 or bosque[i+1,j]==2 ):\n",
      "                            aux[i,j] == 2\n",
      "                     else:\n",
      "                        if j==n:\n",
      "                            if bosque[i,j] == 1 and ( bosque[i+1,j]==2 or bosque[i,j-1]==2 or bosque[i+1,j-1]==2):\n",
      "                                aux[i,j] == 2\n",
      "                        else:\n",
      "                            if bosque[i,j] == 1 and (bosque[i,j+1]==2 or bosque[i+1,j+1]==2 or bosque[i+1,j]==2 or bosque[i,j-1]==2 or bosque[i+1,j-1]==2):\n",
      "                                aux[i,j] == 2   \n",
      "                else:\n",
      "                    if i==n:\n",
      "                        if j==n:\n",
      "                            if bosque[i,j] == 1 and (bosque[i-1,j]==2 or bosque[i,j-1]==2 or bosque[i-1,j-1]==2):\n",
      "                                aux[i,j] == 2\n",
      "                        else:\n",
      "                            if bosque[i,j] == 1 and (bosque[i,j+1]==2 or bosque[i-1,j]==2 or bosque[i,j-1]==2 or bosque[i-1,j-1]==2 or bosque[i-1,j+1]):\n",
      "                                aux[i,j] == 2\n",
      "                    else:\n",
      "                        if j==0:\n",
      "                            if bosque[i,j] == 1 and (bosque[i,j+1]==2 or bosque[i+1,j+1]==2 or bosque[i+1,j]==2 or bosque[i-1,j]==2 or bosque[i-1,j+1]):\n",
      "                                        aux[i,j] == 2\n",
      "                        else:\n",
      "                            if j==n:\n",
      "                                if bosque[i,j] == 1 and (bosque[i+1,j]==2 or bosque[i-1,j]==2 or bosque[i,j-1]==2 or bosque[i-1,j-1]==2 or bosque[i+1,j-1]==2):\n",
      "                                    aux[i,j] == 2\n",
      "                            else:\n",
      "                                if j==0:\n",
      "                                    if bosque[i,j] == 1 and (bosque[i,j+1]==2 or bosque[i+1,j+1]==2 or bosque[i+1,j]==2 or bosque[i-1,j]==2 or bosque[i-1,j+1]):\n",
      "                                        aux[i,j] == 2\n",
      "                                else:\n",
      "                                    if bosque[i,j] == 1 and (bosque[i,j+1]==2 or bosque[i+1,j+1]==2 or bosque[i+1,j]==2 or bosque[i-1,j]==2 or bosque[i,j-1]==2 or bosque[i-1,j-1]==2 or bosque[i+1,j-1]==2 or bosque[i-1,j+1]):\n",
      "                                        aux[i,j] == 2\n",
      "                                        \n",
      "            else:                     \n",
      "                                        random1 = 0.01*(random.randint(0,100))\n",
      "                                        if bosque[i,j]==1 and random1<=f:\n",
      "                                            aux[i,j] == 2\n",
      "                                        else:\n",
      "                                            if bosque[i,j]==2:\n",
      "                                                aux[i,j] == 0\n",
      "                                            else:\n",
      "                                                random2 = 0.01*(random.randint(0,100))\n",
      "                                                if bosque[i,j] == 0 and random2<=p:\n",
      "                                                    aux[i,j]== 1\n",
      "                                                else:\n",
      "                                                    aux[i,j] == bosque[i,j]\n",
      "                                \n",
      "        print bosque\n",
      "        contador +=1\n",
      "        print contador\n",
      "        bosque = aux\n",
      "    return bosque"
     ],
     "language": "python",
     "metadata": {},
     "outputs": [],
     "prompt_number": 72
    },
    {
     "cell_type": "code",
     "collapsed": false,
     "input": [
      "fuego(0.1,0.3,5,4)"
     ],
     "language": "python",
     "metadata": {},
     "outputs": [
      {
       "output_type": "stream",
       "stream": "stdout",
       "text": [
        "[[ 1.  1.  1.  1.]\n",
        " [ 1.  1.  1.  1.]\n",
        " [ 1.  1.  1.  1.]\n",
        " [ 1.  1.  1.  1.]]\n",
        "1\n",
        "[[ 0.  0.  0.  0.]\n",
        " [ 0.  0.  0.  0.]\n",
        " [ 0.  0.  0.  0.]\n",
        " [ 0.  0.  0.  0.]]\n",
        "2\n",
        "[[ 0.  0.  0.  0.]\n",
        " [ 0.  0.  0.  0.]\n",
        " [ 0.  0.  0.  0.]\n",
        " [ 0.  0.  0.  0.]]\n",
        "3\n",
        "[[ 0.  0.  0.  0.]\n",
        " [ 0.  0.  0.  0.]\n",
        " [ 0.  0.  0.  0.]\n",
        " [ 0.  0.  0.  0.]]\n",
        "4\n",
        "[[ 0.  0.  0.  0.]\n",
        " [ 0.  0.  0.  0.]\n",
        " [ 0.  0.  0.  0.]\n",
        " [ 0.  0.  0.  0.]]\n",
        "5\n"
       ]
      },
      {
       "metadata": {},
       "output_type": "pyout",
       "prompt_number": 73,
       "text": [
        "matrix([[ 0.,  0.,  0.,  0.],\n",
        "        [ 0.,  0.,  0.,  0.],\n",
        "        [ 0.,  0.,  0.,  0.],\n",
        "        [ 0.,  0.,  0.,  0.]])"
       ]
      }
     ],
     "prompt_number": 73
    },
    {
     "cell_type": "heading",
     "level": 1,
     "metadata": {},
     "source": []
    },
    {
     "cell_type": "code",
     "collapsed": false,
     "input": [
      "import random\n"
     ],
     "language": "python",
     "metadata": {},
     "outputs": [],
     "prompt_number": 29
    },
    {
     "cell_type": "code",
     "collapsed": false,
     "input": [],
     "language": "python",
     "metadata": {},
     "outputs": []
    },
    {
     "cell_type": "code",
     "collapsed": false,
     "input": [
      "p=0.01*(random.randint(0,100))\n",
      "x"
     ],
     "language": "python",
     "metadata": {},
     "outputs": [
      {
       "metadata": {},
       "output_type": "pyout",
       "prompt_number": 39,
       "text": [
        "0.76"
       ]
      }
     ],
     "prompt_number": 39
    },
    {
     "cell_type": "code",
     "collapsed": false,
     "input": [],
     "language": "python",
     "metadata": {},
     "outputs": [],
     "prompt_number": 33
    },
    {
     "cell_type": "code",
     "collapsed": false,
     "input": [],
     "language": "python",
     "metadata": {},
     "outputs": []
    }
   ],
   "metadata": {}
  }
 ]
}