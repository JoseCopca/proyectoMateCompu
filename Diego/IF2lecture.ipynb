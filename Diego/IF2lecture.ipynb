{
 "metadata": {
  "name": "",
  "signature": "sha256:e8cbe967ca61dab98c0aa6ae1b8f7ed74743a96f2b85879f2365e9c25bbcf9cb"
 },
 "nbformat": 3,
 "nbformat_minor": 0,
 "worksheets": [
  {
   "cells": [
    {
     "cell_type": "heading",
     "level": 1,
     "metadata": {},
     "source": [
      "Incendio Forestal"
     ]
    },
    {
     "cell_type": "markdown",
     "metadata": {},
     "source": [
      "En Bak, Chen and Tang A forest-fire model and some thoughts on turbulence,  Phys. Lett. A 147, 297-300 (1990), los autores crearon un aut\u00f3mata celular probabil\u00edstico para modelar como se esparce el fuego en un bosque. El bosque es modelado en un cuadrado de lado L en el que cada celda es un \u00e1rbol que puede estar en tres estados: vivo(verde), quem\u00e1ndose (amarillo) y muerto (negro).\n",
      "La evoluci\u00f3n se determina como sigue:\n",
      "\n",
      "En el tiempo t se determina el estado de cada celda, en t+1 se aplican las tres reglas:\n",
      "  1. Si el \u00e1rbol est\u00e1 vivo se verifican sus vecinos. Si _alg\u00fan_ vecino est\u00e1 en llamas el \u00e1rbol se quema.\n",
      "  2. Si el \u00e1rbol est\u00e1 en llamas, pasa a muerto.\n",
      "  3. Si el \u00e1rbol est\u00e1 muerto, se regenera con una probabilidad $p$.\n",
      "Reproduzca los resultados del art\u00edculo, en particular la longitud de la correlaci\u00f3n \u03be(p).Incendio forestal\n"
     ]
    },
    {
     "cell_type": "markdown",
     "metadata": {},
     "source": [
      "<div class=\"alert alert-success\">\n",
      "Observaci\u00f3n: Al investigar sobre el modelo nos percatamos que faltaba una regla. Cada \u00e1rbol tiene que tener una probabilidad $f$ para quemarse sin importar su vecindad. Esto permite que el bosque vuelva a quemarse al revivir y que no sea simplemente un incendio que queme todo eventualmente y no se vuelva a repetir. \n",
      "</div>"
     ]
    },
    {
     "cell_type": "heading",
     "level": 3,
     "metadata": {},
     "source": [
      "Idea General"
     ]
    },
    {
     "cell_type": "markdown",
     "metadata": {},
     "source": [
      "Para este ejercicio, empleamos dos matrices. Una que llamamos bosque y otra \"aux\". Las inicializamos como matrices de uno y cero respectivamente. Ademas, usamos $f$ como la probabilidad de que un arbol se quemase sin tener vecinos quemandose y usamos $p$ como la probabilidad de que reviva el arbol muerto. \n",
      "\n",
      "Usamos adem\u00e1s, \"i\" y \"j\" para selecci\u00f3nar cada uno de los elementos de la matriz. \n",
      "\n",
      "Cada una de estas decisiones se almacena en una matriz llamada \"aux\". Cuando se termina de recorrer cada espacio de la matriz, aux se convierte en bosque y se termina un tiempo.\n",
      "\n",
      "*^ eso es por simultaneidad (de los automatas celulares)*\n",
      "\n",
      "Se repite dicho proceso cuantos tiempos se desee. De esta forma no se crean t cantidades de matrices sino que una din\u00e1micamente va modific\u00e1ndose.\n",
      "\n",
      "El problema mas complejo es analizar la vecindad. Esto se debe a que dentro de una matriz existen diferentes vecindades analizables dependiendo de la posici\u00f3n encontrada. Por ejemplo, en la posici\u00f3n (0,0) no se puede analizar posiciones anteriores en ninguna entrada. Existen 5 diferentes vecindades. \n",
      "\n",
      "Utilizamos la vecindad que considera las 8 celdas continuas, ya que parec\u00eda mas realista en cuanto a un bosque (No obstante, la vecindad que s\u00f3lo considera 4 celdas hace que el programa se mueva de manera menos uniforme, representando con mayor claridad lo que es un aut\u00f3mata celular, por lo tanto es posible que cambiemos por el de cuatro).\n",
      "\n",
      "Las zonas de la matriz donde no pueden tomarse las 8 celdas continuas (porque no hay) son las siguientes:\n",
      "\n",
      " - (0,0)\n",
      " - (0,i)\n",
      " - (i,0)\n",
      " - (n,n)\n",
      " - (i,i)\n",
      "\n",
      "Donde i representa una locaci\u00f3n cualquiera de la matriz y "
     ]
    },
    {
     "cell_type": "markdown",
     "metadata": {},
     "source": [
      "Debido a la complejidad del problema decidimos crear varias funciones que lleven a cabo las reglas e intentar implementarlas en una funci\u00f3n maestra. Las funciones usadas son las siguientes:"
     ]
    },
    {
     "cell_type": "heading",
     "level": 1,
     "metadata": {},
     "source": [
      "Funciones empleadas"
     ]
    },
    {
     "cell_type": "code",
     "collapsed": false,
     "input": [
      "import numpy as np\n",
      "import random"
     ],
     "language": "python",
     "metadata": {},
     "outputs": [],
     "prompt_number": 5
    },
    {
     "cell_type": "markdown",
     "metadata": {},
     "source": [
      "$quemaSV(bosque,f,aux,i,j):$ \n",
      "\n",
      "Esta funci\u00f3n determina si el \u00e1rbol se quema de manera aleatoria. La probabilidad de quemarse esta dada por $f$. Las matriz $bosque$ es la matriz que dicta el resultado y la matriz $aux$ es donde los resultados son aplicados. Asi mismo, $i$ y $j$ representan el punto de la matriz. "
     ]
    },
    {
     "cell_type": "code",
     "collapsed": false,
     "input": [
      "def quemaSV(bosque,f,aux,i,j):\n",
      "\n",
      "    if bosque[i,j]==1 and 0.01*(random.randint(0,100))<=f:\n",
      "        aux[i,j] = 2\n",
      "    else:\n",
      "        aux[i,j] = bosque[i,j]\n",
      "    \n",
      "    return aux[i,j]"
     ],
     "language": "python",
     "metadata": {},
     "outputs": [],
     "prompt_number": 6
    },
    {
     "cell_type": "markdown",
     "metadata": {},
     "source": [
      "$revive(bosque,p,aux,i,j):$\n",
      "\n",
      "Esta funcion determina si el \u00e1rbol revive de manera aleatoria. Instanciamos $p$ como la probabilidad de que suceda. "
     ]
    },
    {
     "cell_type": "code",
     "collapsed": false,
     "input": [
      "def revive(bosque,p,aux,i,j):\n",
      "    \n",
      "    if bosque[i,j] == 0 and 0.01*(random.randint(0,100))<=p:\n",
      "        aux[i,j]= 1\n",
      "    else:\n",
      "        aux[i,j] = bosque[i,j]\n",
      "        \n",
      "    return aux[i,j]"
     ],
     "language": "python",
     "metadata": {},
     "outputs": [],
     "prompt_number": 7
    },
    {
     "cell_type": "markdown",
     "metadata": {},
     "source": [
      "$muere(bosque,aux,i,j):$\n",
      "\n",
      "Esta funci\u00f3n hace que todo \u00e1rbol que se este quemando, pase a muerto en el siguiente tiempo. "
     ]
    },
    {
     "cell_type": "code",
     "collapsed": false,
     "input": [
      "def muere(bosque,aux,i,j):\n",
      "    if bosque[i,j]==2:\n",
      "        aux[i,j] = 0\n",
      "    else:\n",
      "        aux[i,j] = bosque[i,j]\n",
      "\n",
      "    return aux[i,j]"
     ],
     "language": "python",
     "metadata": {},
     "outputs": [],
     "prompt_number": 8
    },
    {
     "cell_type": "markdown",
     "metadata": {},
     "source": [
      "$vecino(bosque,aux,i,j,n):$\n",
      "\n",
      "Esta funci\u00f3n debe de checar si algun vecino del \u00e1rbol esta quemandose. \n",
      "Dado que si haya al menos uno, el arbol empezar\u00e1 a quemarse en el siguiente turno. "
     ]
    },
    {
     "cell_type": "code",
     "collapsed": false,
     "input": [
      "def vecino(bosque,aux,i,j,n):\n",
      "\n",
      "    if i==0:\n",
      "        if j==0:   \n",
      "            if bosque[i,j+1]==2 or bosque[i+1,j+1]==2 or bosque[i+1,j]==2:\n",
      "                aux[i,j] = 2\n",
      "            else:\n",
      "                if j==n-1:\n",
      "                    if bosque[i+1,j]==2 or bosque[i,j-1]==2 or bosque[i+1,j-1]==2:\n",
      "                        aux[i,j] = 2\n",
      "                else:\n",
      "                    if bosque[i,j+1]==2 or bosque[i+1,j+1]==2 or bosque[i+1,j]==2 or bosque[i,j-1]==2 or bosque[i+1,j-1]==2:\n",
      "                        aux[i,j] = 2   \n",
      "        else:\n",
      "            if i==n-1:\n",
      "                if j==n-1:\n",
      "                    if bosque[i-1,j]==2 or bosque[i,j-1]==2 or bosque[i-1,j-1]==2:\n",
      "                        aux[i,j] = 2\n",
      "                else:\n",
      "                    if bosque[i,j+1]==2 or bosque[i-1,j]==2 or bosque[i,j-1]==2 or bosque[i-1,j-1]==2 or bosque[i-1,j+1]:\n",
      "                        aux[i,j] = 2\n",
      "            else:\n",
      "                if j==0:\n",
      "                    if bosque[i,j+1]==2 or bosque[i+1,j+1]==2 or bosque[i+1,j]==2 or bosque[i-1,j]==2 or bosque[i-1,j+1]:\n",
      "                        aux[i,j] = 2\n",
      "                else:\n",
      "                    if j==n-1:\n",
      "                        if bosque[i+1,j]==2 or bosque[i-1,j]==2 or bosque[i,j-1]==2 or bosque[i-1,j-1]==2 or bosque[i+1,j-1]==2:\n",
      "                            aux[i,j] = 2\n",
      "                    else:\n",
      "                        if j==0:\n",
      "                            if bosque[i,j+1]==2 or bosque[i+1,j+1]==2 or bosque[i+1,j]==2 or bosque[i-1,j]==2 or bosque[i-1,j+1]:\n",
      "                                aux[i,j] = 2\n",
      "                        else:\n",
      "                            if bosque[i,j+1]==2 or bosque[i+1,j+1]==2 or bosque[i+1,j]==2 or bosque[i-1,j]==2 or bosque[i,j-1]==2 or bosque[i-1,j-1]==2 or bosque[i+1,j-1]==2 or bosque[i-1,j+1]:\n",
      "                                aux[i,j] = 2\n",
      "                                        \n",
      "                            else: \n",
      "                                aux[i,j] = 1\n",
      "                                \n",
      "    return aux[i,j]"
     ],
     "language": "python",
     "metadata": {},
     "outputs": [],
     "prompt_number": 9
    },
    {
     "cell_type": "markdown",
     "metadata": {},
     "source": [
      "<div class=\"alert alert-warning\">\n",
      "Debido a que `vecino(bosque,aux,i,j,n):` no funciona como deseado. Decidimos simplificar la funci\u00f3n al \u00faltimo caso, al interior de la matr\u00edz, para poder analizar m\u00e1s eficientemente d\u00f3nde podr\u00eda encontrarse el error\n",
      "</div>"
     ]
    },
    {
     "cell_type": "code",
     "collapsed": false,
     "input": [
      "def fuego(bosque,aux,i,j):\n",
      "    if bosque[i,j+1]==2 or bosque[i+1,j+1]==2 or bosque[i+1,j]==2 or bosque[i-1,j]==2 or bosque[i,j-1]==2 or bosque[i-1,j-1]==2 or bosque[i+1,j-1]==2 or bosque[i-1,j+1]:\n",
      "        aux[i,j] = 2                      \n",
      "    else: \n",
      "        aux[i,j] = 1\n",
      "\n",
      "    return aux[i,j]"
     ],
     "language": "python",
     "metadata": {},
     "outputs": [],
     "prompt_number": 21
    },
    {
     "cell_type": "markdown",
     "metadata": {},
     "source": [
      "<div class=\"alert alert-warning\">\n",
      "Para poder ver en pocos tiempos si todas las funciones haces lo que deber\u00edan de hacer, decidimos poner un \u00e1rbol inicial quem\u00e1ndose.\n",
      "</div>"
     ]
    },
    {
     "cell_type": "markdown",
     "metadata": {},
     "source": [
      "$final(n,f,p,tiempo):$\n",
      "\n",
      "Esta funci\u00f3n incluye todas las funciones y usarlas para crear el bosque.\n",
      "El tiempo es lo que representa la cantidad de\n",
      "veces que esta funci\u00f3n corre. \n",
      "El contador solo es para saber cuantas veces fue empleada.\n",
      "Al final se imprime el bosque original, el contador aumenta y el bosque auxiliar se vuelve el original, \n",
      "para as\u00ed repetir nuevamente el programa. "
     ]
    },
    {
     "cell_type": "code",
     "collapsed": false,
     "input": [
      "def final(n,f,p,tiempo):\n",
      "\n",
      "\n",
      "    contador = 0\n",
      "    bosque = np.matrix(np.ones((n,n)))\n",
      "    aux = np.matrix(np.zeros((n,n)))\n",
      "    bosque[n/2,n/2]=2\n",
      "    \n",
      "    for k in range(0,tiempo):\n",
      "        for i in xrange(1,n-1):\n",
      "            for j in xrange(1,n-1):\n",
      "                if bosque[i,j]==1:\n",
      "                    fuego(bosque,aux,i,j,)\n",
      "                    if bosque[i,j]==1:\n",
      "                        quemaSV(bosque,f,aux,i,j)\n",
      "                else:\n",
      "                    if bosque[i,j]==2:\n",
      "                        muere(bosque,aux,i,j)\n",
      "                    else:\n",
      "                        if bosque[i,j]==0:\n",
      "                            revive(bosque,p,aux,i,j)\n",
      "                    \n",
      "        print bosque\n",
      "        contador +=1 \n",
      "        print contador\n",
      "        aux = bosque\n",
      "    return bosque"
     ],
     "language": "python",
     "metadata": {},
     "outputs": [],
     "prompt_number": 19
    },
    {
     "cell_type": "code",
     "collapsed": false,
     "input": [
      "final(7,0.1,0.7,8)"
     ],
     "language": "python",
     "metadata": {},
     "outputs": [
      {
       "output_type": "stream",
       "stream": "stdout",
       "text": [
        "[[ 1.  1.  1.  1.  1.  1.  1.]\n",
        " [ 1.  1.  1.  1.  1.  1.  1.]\n",
        " [ 1.  1.  1.  1.  1.  1.  1.]\n",
        " [ 1.  1.  1.  2.  1.  1.  1.]\n",
        " [ 1.  1.  1.  1.  1.  1.  1.]\n",
        " [ 1.  1.  1.  1.  1.  1.  1.]\n",
        " [ 1.  1.  1.  1.  1.  1.  1.]]\n",
        "1\n",
        "[[ 1.  1.  1.  1.  1.  1.  1.]\n",
        " [ 1.  2.  2.  2.  2.  2.  1.]\n",
        " [ 1.  2.  2.  2.  2.  2.  1.]\n",
        " [ 1.  2.  2.  0.  2.  2.  1.]\n",
        " [ 1.  2.  2.  2.  2.  2.  1.]\n",
        " [ 1.  2.  2.  2.  2.  2.  1.]\n",
        " [ 1.  1.  1.  1.  1.  1.  1.]]\n",
        "2\n",
        "[[ 1.  1.  1.  1.  1.  1.  1.]\n",
        " [ 1.  0.  0.  0.  0.  0.  1.]\n",
        " [ 1.  0.  0.  0.  0.  0.  1.]\n",
        " [ 1.  0.  0.  0.  0.  0.  1.]\n",
        " [ 1.  0.  0.  0.  0.  0.  1.]\n",
        " [ 1.  0.  0.  0.  0.  0.  1.]\n",
        " [ 1.  1.  1.  1.  1.  1.  1.]]\n",
        "3\n",
        "[[ 1.  1.  1.  1.  1.  1.  1.]\n",
        " [ 1.  1.  1.  0.  0.  1.  1.]\n",
        " [ 1.  0.  1.  0.  1.  0.  1.]\n",
        " [ 1.  1.  0.  1.  1.  1.  1.]\n",
        " [ 1.  1.  0.  1.  1.  1.  1.]\n",
        " [ 1.  0.  0.  0.  1.  0.  1.]\n",
        " [ 1.  1.  1.  1.  1.  1.  1.]]\n",
        "4\n",
        "[[ 1.  1.  1.  1.  1.  1.  1.]\n",
        " [ 1.  2.  2.  1.  1.  2.  1.]\n",
        " [ 1.  1.  2.  1.  2.  1.  1.]\n",
        " [ 1.  2.  1.  2.  2.  2.  1.]\n",
        " [ 1.  2.  0.  2.  2.  2.  1.]\n",
        " [ 1.  0.  1.  1.  2.  1.  1.]\n",
        " [ 1.  1.  1.  1.  1.  1.  1.]]\n",
        "5\n",
        "[[ 1.  1.  1.  1.  1.  1.  1.]\n",
        " [ 1.  0.  0.  2.  2.  0.  1.]\n",
        " [ 1.  2.  0.  2.  0.  2.  1.]\n",
        " [ 1.  0.  2.  0.  0.  0.  1.]\n",
        " [ 1.  0.  1.  0.  0.  0.  1.]\n",
        " [ 1.  1.  1.  2.  0.  2.  1.]\n",
        " [ 1.  1.  1.  1.  1.  1.  1.]]\n",
        "6\n",
        "[[ 1.  1.  1.  1.  1.  1.  1.]\n",
        " [ 1.  1.  1.  0.  0.  0.  1.]\n",
        " [ 1.  0.  0.  0.  0.  0.  1.]\n",
        " [ 1.  1.  0.  0.  1.  1.  1.]\n",
        " [ 1.  1.  2.  1.  1.  1.  1.]\n",
        " [ 1.  2.  2.  0.  1.  0.  1.]\n",
        " [ 1.  1.  1.  1.  1.  1.  1.]]\n",
        "7\n",
        "[[ 1.  1.  1.  1.  1.  1.  1.]\n",
        " [ 1.  2.  2.  1.  0.  1.  1.]\n",
        " [ 1.  0.  1.  0.  1.  1.  1.]\n",
        " [ 1.  2.  0.  1.  2.  2.  1.]\n",
        " [ 1.  2.  0.  2.  2.  2.  1.]\n",
        " [ 1.  0.  0.  0.  2.  0.  1.]\n",
        " [ 1.  1.  1.  1.  1.  1.  1.]]\n",
        "8\n"
       ]
      },
      {
       "metadata": {},
       "output_type": "pyout",
       "prompt_number": 20,
       "text": [
        "matrix([[ 1.,  1.,  1.,  1.,  1.,  1.,  1.],\n",
        "        [ 1.,  2.,  2.,  1.,  0.,  1.,  1.],\n",
        "        [ 1.,  0.,  1.,  0.,  1.,  1.,  1.],\n",
        "        [ 1.,  2.,  0.,  1.,  2.,  2.,  1.],\n",
        "        [ 1.,  2.,  0.,  2.,  2.,  2.,  1.],\n",
        "        [ 1.,  0.,  0.,  0.,  2.,  0.,  1.],\n",
        "        [ 1.,  1.,  1.,  1.,  1.,  1.,  1.]])"
       ]
      }
     ],
     "prompt_number": 20
    },
    {
     "cell_type": "heading",
     "level": 3,
     "metadata": {},
     "source": [
      "Lo que Falta:"
     ]
    },
    {
     "cell_type": "markdown",
     "metadata": {},
     "source": [
      "- Arreglar el c\u00f3digo para que queme \u00fanicamente la vecindad y no toda la matriz.\n",
      "- Implementar un an\u00e1lisis en las celdas para observar, en promedio, c\u00faantas veces se quema, revive o muere el \u00e1rbol.\n",
      "- A trav\u00e9s de imshow(matriz) modificar los n\u00fameros a colores y en general que se vea bien.\n",
      "- Intentar implementarlo para matrices grandes y con muchos tiempos para poder observar los fractales que se forman."
     ]
    }
   ],
   "metadata": {}
  }
 ]
}