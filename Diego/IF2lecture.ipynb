{
 "metadata": {
  "name": "",
  "signature": "sha256:b97aa9f4b8649f85ba1794c4c5df4e4c0770f23e12fa2b825c07d388b0e2141b"
 },
 "nbformat": 3,
 "nbformat_minor": 0,
 "worksheets": [
  {
   "cells": [
    {
     "cell_type": "heading",
     "level": 1,
     "metadata": {},
     "source": [
      "Incendio Forestal"
     ]
    },
    {
     "cell_type": "markdown",
     "metadata": {},
     "source": [
      "En Bak, Chen and Tang A forest-fire model and some thoughts on turbulence,  Phys. Lett. A 147, 297-300 (1990), los autores crearon un aut\u00f3mata celular probabil\u00edstico para modelar como se esparce el fuego en un bosque. El bosque es modelado en un cuadrado de lado L en el que cada celda es un \u00e1rbol que puede estar en tres estados: vivo(verde), quem\u00e1ndose (amarillo) y muerto (negro).\n",
      "La evoluci\u00f3n se determina como sigue:\n",
      "\n",
      "En el tiempo t se determina el estado de cada celda, en t+1 se aplican las tres reglas:\n",
      "  1. Si el \u00e1rbol est\u00e1 vivo se verifican sus vecinos. Si _alg\u00fan_ vecino est\u00e1 en llamas el \u00e1rbol se quema.\n",
      "  2. Si el \u00e1rbol est\u00e1 en llamas, pasa a muerto.\n",
      "  3. Si el \u00e1rbol est\u00e1 muerto, se regenera con una probabilidad $p$.\n",
      "Reproduzca los resultados del art\u00edculo, en particular la longitud de la correlaci\u00f3n \u03be(p).Incendio forestal\n"
     ]
    },
    {
     "cell_type": "markdown",
     "metadata": {},
     "source": [
      "<div class=\"alert alert-success\">\n",
      "Observaci\u00f3n: Al investigar sobre el modelo nos percatamos que faltaba una regla. Cada \u00e1rbol tiene que tener una probabilidad $f$ para quemarse sin importar su vecindad.\n",
      "</div>"
     ]
    },
    {
     "cell_type": "markdown",
     "metadata": {},
     "source": [
      "*^ no estoy tan seguro de eso*"
     ]
    },
    {
     "cell_type": "heading",
     "level": 3,
     "metadata": {},
     "source": [
      "Idea General"
     ]
    },
    {
     "cell_type": "markdown",
     "metadata": {},
     "source": [
      "Decidimos utilizar matrices en vez de animaci\u00f3n por puntos gracias a la \"sencillez\" de encontrar dicha vecindad cuando se utiliza matrices.\n",
      "\n",
      "*comentarios de Lore: ESTAMOS USANDO UN AUTOMATA CELULAR (la matriz)!!!! nunca hubo la opcion de usar animaci\u00f3n por puntos*\n",
      "\n",
      "(Idea general de Antonio)\n",
      "Decidimos recorrer cada espacio de la matriz y que en cada una:\n",
      "\n",
      "*no es esto lo que decian las instrucciones, \u00bfpara que lo repetimos?*\n",
      "\n",
      " - Si el \u00e1rbol est\u00e1 vivo:\n",
      "     - Analice su vecindad, si alg\u00fan \u00e1rbol se est\u00e1 quemando, se quema\n",
      "     - Si no es as\u00ed, aplique la probabilidad $f$ y decidir si se quema espont\u00e1neamente o no\n",
      "     \n",
      " - Si el \u00e1rbol est\u00e1 quem\u00e1ndose:\n",
      "     - Matar al \u00e1rbol\n",
      " \n",
      " - Si el \u00e1rbol est\u00e1 muerto:\n",
      "     - Aplicar la probabilidad $p$ y decidir si revive o no\n",
      "\n",
      "Cada unan de estas decisiones se almacena en una matriz llamada \"aux\". Cuando se termina de recorrer cada espacio de la matriz, aux se convierte en bosque y se termina un tiempo.\n",
      "\n",
      "*^ eso es por simultaneidad (de los automatas celulares)*\n",
      "\n",
      "Se repite dicho proceso cuantos tiempos se desee. De esta forma no se crean t cantidades de matrices sino que una din\u00e1micamente va modific\u00e1ndose.\n",
      "\n",
      "Lo m\u00e1s complicado es analizar la vecindad. Esto se debe a que dentro de una matriz existen diferentes vecindades analizables dependiendo de la posici\u00f3n encontrada. Por ejemplo, en la posici\u00f3n (0,0) no se puede analizar posiciones anteriores en ninguna entrada. Existen 5 diferentes vecindades (utilizamos la vecindad de ... la que considera las 8 celdas continuas):\n",
      "\n",
      " - (0,0)\n",
      " - (0,i)\n",
      " - (i,0)\n",
      " - (n,n)\n",
      " - (i,i)\n",
      "\n",
      "*explicar por que eligimos esta vecindad (unanue sugiri\u00f3 vecindad de s\u00f3lo 4*\n",
      "\n",
      "0<i<n\n"
     ]
    },
    {
     "cell_type": "heading",
     "level": 3,
     "metadata": {},
     "source": [
      "\u00bfProcedural o Clase?"
     ]
    },
    {
     "cell_type": "markdown",
     "metadata": {},
     "source": [
      "*yo quitaria esto y metieria el c\u00f3digo a una clase*"
     ]
    },
    {
     "cell_type": "markdown",
     "metadata": {},
     "source": [
      "Decidimos trabajar proceduralmente pues se nos hac\u00eda m\u00e1s c\u00f3modo. Debido a la complejidad del problema decidimos crear varias funciones que lleven a cabo las reglas e intentar implementarlas en una funci\u00f3n maestra. Las funciones usadas son las siguientes:"
     ]
    },
    {
     "cell_type": "markdown",
     "metadata": {},
     "source": [
      "`quemaSV(bosque,f,aux,i,j):` (breve explicaci\u00f3n de porqu\u00e9 utilizamos esos par\u00e1metros y qu\u00e9 hace)"
     ]
    },
    {
     "cell_type": "markdown",
     "metadata": {},
     "source": [
      "`revive(bosque,p,aux,i,j):` (breve explicaci\u00f3n de porqu\u00e9 utilizamos esos par\u00e1metros y qu\u00e9 hace)"
     ]
    },
    {
     "cell_type": "markdown",
     "metadata": {},
     "source": [
      "`muere(bosque,aux,i,j):` (breve explicaci\u00f3n de porqu\u00e9 utilizamos esos par\u00e1metros y qu\u00e9 hace)"
     ]
    },
    {
     "cell_type": "markdown",
     "metadata": {},
     "source": [
      "`vecino(bosque,aux,i,j,n):`(breve explicaci\u00f3n de porqu\u00e9 utilizamos esos par\u00e1metros y qu\u00e9 hace)"
     ]
    },
    {
     "cell_type": "markdown",
     "metadata": {},
     "source": [
      "`final(n,f,p,tiempo):` (breve explicaci\u00f3n de porqu\u00e9 utilizamos esos par\u00e1metros y qu\u00e9 hace)"
     ]
    },
    {
     "cell_type": "markdown",
     "metadata": {},
     "source": [
      "<div class=\"alert alert-danger\">\n",
      "No s\u00e9 si prefieras que se expliquen todas las funciones desde un principio o individualmente despu\u00e9s de su c\u00f3digo\n",
      "</div>"
     ]
    },
    {
     "cell_type": "code",
     "collapsed": false,
     "input": [
      "import numpy as np\n",
      "import random"
     ],
     "language": "python",
     "metadata": {},
     "outputs": [],
     "prompt_number": 5
    },
    {
     "cell_type": "code",
     "collapsed": false,
     "input": [
      "def quemaSV(bosque,f,aux,i,j):\n",
      "# Esta funci\u00f3n determina si el arbol se quema de manera aleatoria. \n",
      "# La probabilidad de quemarse esta dada por f.\n",
      "    if bosque[i,j]==1 and 0.01*(random.randint(0,100))<=f:\n",
      "        aux[i,j] = 2\n",
      "    else:\n",
      "        aux[i,j] = bosque[i,j]\n",
      "    \n",
      "    return aux[i,j]"
     ],
     "language": "python",
     "metadata": {},
     "outputs": [],
     "prompt_number": 6
    },
    {
     "cell_type": "code",
     "collapsed": false,
     "input": [
      "def revive(bosque,p,aux,i,j):\n",
      "# Esta funci\u00f3n determina si el arbol revive de manera aleatoria. \n",
      "# La probabilidad de revivir esta dada por p.\n",
      "    \n",
      "    if bosque[i,j] == 0 and 0.01*(random.randint(0,100))<=p:\n",
      "        aux[i,j]= 1\n",
      "    else:\n",
      "        aux[i,j] = bosque[i,j]\n",
      "        \n",
      "    return aux[i,j]"
     ],
     "language": "python",
     "metadata": {},
     "outputs": [],
     "prompt_number": 7
    },
    {
     "cell_type": "code",
     "collapsed": false,
     "input": [
      "def muere(bosque,aux,i,j):\n",
      "# Esta funci\u00f3n cumple que el arbol muera si se esta quemando.\n",
      "\n",
      "    if bosque[i,j]==2:\n",
      "        aux[i,j] = 0\n",
      "    else:\n",
      "        aux[i,j] = bosque[i,j]\n",
      "\n",
      "    return aux[i,j]"
     ],
     "language": "python",
     "metadata": {},
     "outputs": [],
     "prompt_number": 8
    },
    {
     "cell_type": "code",
     "collapsed": false,
     "input": [
      "def vecino(bosque,aux,i,j,n):\n",
      "# Este programa es el que checa la vecindad del arbol. Si algun vecino se esta quemando\n",
      "# el arbol se quemar\u00e1.\n",
      "\n",
      "    if i==0:\n",
      "        if j==0:   \n",
      "            if bosque[i,j+1]==2 or bosque[i+1,j+1]==2 or bosque[i+1,j]==2:\n",
      "                aux[i,j] = 2\n",
      "            else:\n",
      "                if j==n-1:\n",
      "                    if bosque[i+1,j]==2 or bosque[i,j-1]==2 or bosque[i+1,j-1]==2:\n",
      "                        aux[i,j] = 2\n",
      "                else:\n",
      "                    if bosque[i,j+1]==2 or bosque[i+1,j+1]==2 or bosque[i+1,j]==2 or bosque[i,j-1]==2 or bosque[i+1,j-1]==2:\n",
      "                        aux[i,j] = 2   \n",
      "        else:\n",
      "            if i==n-1:\n",
      "                if j==n-1:\n",
      "                    if bosque[i-1,j]==2 or bosque[i,j-1]==2 or bosque[i-1,j-1]==2:\n",
      "                        aux[i,j] = 2\n",
      "                else:\n",
      "                    if bosque[i,j+1]==2 or bosque[i-1,j]==2 or bosque[i,j-1]==2 or bosque[i-1,j-1]==2 or bosque[i-1,j+1]:\n",
      "                        aux[i,j] = 2\n",
      "            else:\n",
      "                if j==0:\n",
      "                    if bosque[i,j+1]==2 or bosque[i+1,j+1]==2 or bosque[i+1,j]==2 or bosque[i-1,j]==2 or bosque[i-1,j+1]:\n",
      "                        aux[i,j] = 2\n",
      "                else:\n",
      "                    if j==n-1:\n",
      "                        if bosque[i+1,j]==2 or bosque[i-1,j]==2 or bosque[i,j-1]==2 or bosque[i-1,j-1]==2 or bosque[i+1,j-1]==2:\n",
      "                            aux[i,j] = 2\n",
      "                    else:\n",
      "                        if j==0:\n",
      "                            if bosque[i,j+1]==2 or bosque[i+1,j+1]==2 or bosque[i+1,j]==2 or bosque[i-1,j]==2 or bosque[i-1,j+1]:\n",
      "                                aux[i,j] = 2\n",
      "                        else:\n",
      "                            if bosque[i,j+1]==2 or bosque[i+1,j+1]==2 or bosque[i+1,j]==2 or bosque[i-1,j]==2 or bosque[i,j-1]==2 or bosque[i-1,j-1]==2 or bosque[i+1,j-1]==2 or bosque[i-1,j+1]:\n",
      "                                aux[i,j] = 2\n",
      "                                        \n",
      "                            else: \n",
      "                                aux[i,j] = 1\n",
      "                                \n",
      "    return aux[i,j]"
     ],
     "language": "python",
     "metadata": {},
     "outputs": [],
     "prompt_number": 9
    },
    {
     "cell_type": "markdown",
     "metadata": {},
     "source": [
      "<div class=\"alert alert-warning\">\n",
      "Debido a que `vecino(bosque,aux,i,j,n):` no funciona como deseado. Decidimos simplificar la funci\u00f3n al \u00faltimo caso, al interior de la matr\u00edz, para poder analizar m\u00e1s eficientemente d\u00f3nde podr\u00eda encontrarse el error\n",
      "</div>"
     ]
    },
    {
     "cell_type": "code",
     "collapsed": false,
     "input": [
      "def fuego(bosque,aux,i,j):\n",
      "    if bosque[i,j+1]==2 or bosque[i+1,j+1]==2 or bosque[i+1,j]==2 or bosque[i-1,j]==2 or bosque[i,j-1]==2 or bosque[i-1,j-1]==2 or bosque[i+1,j-1]==2 or bosque[i-1,j+1]:\n",
      "        aux[i,j] = 2                      \n",
      "    else: \n",
      "        aux[i,j] = 1\n",
      "\n",
      "    return aux[i,j]"
     ],
     "language": "python",
     "metadata": {},
     "outputs": [],
     "prompt_number": 21
    },
    {
     "cell_type": "markdown",
     "metadata": {},
     "source": [
      "<div class=\"alert alert-warning\">\n",
      "Para poder ver en pocos tiempos si todas las funciones haces lo que deber\u00edan de hacer, decidimos poner un \u00e1rbol inicial quem\u00e1ndose.\n",
      "</div>"
     ]
    },
    {
     "cell_type": "code",
     "collapsed": false,
     "input": [
      "def final(n,f,p,tiempo):\n",
      "# Esta funci\u00f3n DEBER\u00cdA de incluir todas las funciones y usarlas para crear el bosque.\n",
      "# No obstante, a\u00fan no funciona correctamente. El tiempo es lo que representa la cantidad de\n",
      "# veces que esta funci\u00f3n debe de correr. El contador solo es para saber cuantas veces fue empleada.\n",
      "# Al final se imprime el bosque original, el contador aumenta y el bosque auxiliar se vuelve el original, \n",
      "# para as\u00ed repetir nuevamente el programa. \n",
      "\n",
      "    contador = 0\n",
      "    bosque = np.matrix(np.ones((n,n)))\n",
      "    aux = np.matrix(np.zeros((n,n)))\n",
      "    bosque[n/2,n/2]=2\n",
      "    \n",
      "    for k in range(0,tiempo):\n",
      "        for i in xrange(1,n-1):\n",
      "            for j in xrange(1,n-1):\n",
      "                if bosque[i,j]==1:\n",
      "                    fuego(bosque,aux,i,j,)\n",
      "                    if bosque[i,j]==1:\n",
      "                        quemaSV(bosque,f,aux,i,j)\n",
      "                else:\n",
      "                    if bosque[i,j]==2:\n",
      "                        muere(bosque,aux,i,j)\n",
      "                    else:\n",
      "                        if bosque[i,j]==0:\n",
      "                            revive(bosque,p,aux,i,j)\n",
      "                    \n",
      "        print bosque\n",
      "        contador +=1 \n",
      "        print contador\n",
      "        aux = bosque\n",
      "    return bosque"
     ],
     "language": "python",
     "metadata": {},
     "outputs": [],
     "prompt_number": 19
    },
    {
     "cell_type": "code",
     "collapsed": false,
     "input": [
      "final(7,0.1,0.7,8)"
     ],
     "language": "python",
     "metadata": {},
     "outputs": [
      {
       "output_type": "stream",
       "stream": "stdout",
       "text": [
        "[[ 1.  1.  1.  1.  1.  1.  1.]\n",
        " [ 1.  1.  1.  1.  1.  1.  1.]\n",
        " [ 1.  1.  1.  1.  1.  1.  1.]\n",
        " [ 1.  1.  1.  2.  1.  1.  1.]\n",
        " [ 1.  1.  1.  1.  1.  1.  1.]\n",
        " [ 1.  1.  1.  1.  1.  1.  1.]\n",
        " [ 1.  1.  1.  1.  1.  1.  1.]]\n",
        "1\n",
        "[[ 1.  1.  1.  1.  1.  1.  1.]\n",
        " [ 1.  2.  2.  2.  2.  2.  1.]\n",
        " [ 1.  2.  2.  2.  2.  2.  1.]\n",
        " [ 1.  2.  2.  0.  2.  2.  1.]\n",
        " [ 1.  2.  2.  2.  2.  2.  1.]\n",
        " [ 1.  2.  2.  2.  2.  2.  1.]\n",
        " [ 1.  1.  1.  1.  1.  1.  1.]]\n",
        "2\n",
        "[[ 1.  1.  1.  1.  1.  1.  1.]\n",
        " [ 1.  0.  0.  0.  0.  0.  1.]\n",
        " [ 1.  0.  0.  0.  0.  0.  1.]\n",
        " [ 1.  0.  0.  0.  0.  0.  1.]\n",
        " [ 1.  0.  0.  0.  0.  0.  1.]\n",
        " [ 1.  0.  0.  0.  0.  0.  1.]\n",
        " [ 1.  1.  1.  1.  1.  1.  1.]]\n",
        "3\n",
        "[[ 1.  1.  1.  1.  1.  1.  1.]\n",
        " [ 1.  1.  1.  0.  0.  1.  1.]\n",
        " [ 1.  0.  1.  0.  1.  0.  1.]\n",
        " [ 1.  1.  0.  1.  1.  1.  1.]\n",
        " [ 1.  1.  0.  1.  1.  1.  1.]\n",
        " [ 1.  0.  0.  0.  1.  0.  1.]\n",
        " [ 1.  1.  1.  1.  1.  1.  1.]]\n",
        "4\n",
        "[[ 1.  1.  1.  1.  1.  1.  1.]\n",
        " [ 1.  2.  2.  1.  1.  2.  1.]\n",
        " [ 1.  1.  2.  1.  2.  1.  1.]\n",
        " [ 1.  2.  1.  2.  2.  2.  1.]\n",
        " [ 1.  2.  0.  2.  2.  2.  1.]\n",
        " [ 1.  0.  1.  1.  2.  1.  1.]\n",
        " [ 1.  1.  1.  1.  1.  1.  1.]]\n",
        "5\n",
        "[[ 1.  1.  1.  1.  1.  1.  1.]\n",
        " [ 1.  0.  0.  2.  2.  0.  1.]\n",
        " [ 1.  2.  0.  2.  0.  2.  1.]\n",
        " [ 1.  0.  2.  0.  0.  0.  1.]\n",
        " [ 1.  0.  1.  0.  0.  0.  1.]\n",
        " [ 1.  1.  1.  2.  0.  2.  1.]\n",
        " [ 1.  1.  1.  1.  1.  1.  1.]]\n",
        "6\n",
        "[[ 1.  1.  1.  1.  1.  1.  1.]\n",
        " [ 1.  1.  1.  0.  0.  0.  1.]\n",
        " [ 1.  0.  0.  0.  0.  0.  1.]\n",
        " [ 1.  1.  0.  0.  1.  1.  1.]\n",
        " [ 1.  1.  2.  1.  1.  1.  1.]\n",
        " [ 1.  2.  2.  0.  1.  0.  1.]\n",
        " [ 1.  1.  1.  1.  1.  1.  1.]]\n",
        "7\n",
        "[[ 1.  1.  1.  1.  1.  1.  1.]\n",
        " [ 1.  2.  2.  1.  0.  1.  1.]\n",
        " [ 1.  0.  1.  0.  1.  1.  1.]\n",
        " [ 1.  2.  0.  1.  2.  2.  1.]\n",
        " [ 1.  2.  0.  2.  2.  2.  1.]\n",
        " [ 1.  0.  0.  0.  2.  0.  1.]\n",
        " [ 1.  1.  1.  1.  1.  1.  1.]]\n",
        "8\n"
       ]
      },
      {
       "metadata": {},
       "output_type": "pyout",
       "prompt_number": 20,
       "text": [
        "matrix([[ 1.,  1.,  1.,  1.,  1.,  1.,  1.],\n",
        "        [ 1.,  2.,  2.,  1.,  0.,  1.,  1.],\n",
        "        [ 1.,  0.,  1.,  0.,  1.,  1.,  1.],\n",
        "        [ 1.,  2.,  0.,  1.,  2.,  2.,  1.],\n",
        "        [ 1.,  2.,  0.,  2.,  2.,  2.,  1.],\n",
        "        [ 1.,  0.,  0.,  0.,  2.,  0.,  1.],\n",
        "        [ 1.,  1.,  1.,  1.,  1.,  1.,  1.]])"
       ]
      }
     ],
     "prompt_number": 20
    },
    {
     "cell_type": "heading",
     "level": 3,
     "metadata": {},
     "source": [
      "Lo que Falta (mucho):"
     ]
    },
    {
     "cell_type": "markdown",
     "metadata": {},
     "source": [
      "- Arreglar el c\u00f3digo para que queme \u00fanicamente la vecindad y no toda la matriz.\n",
      "- Implementar un ... para ver el cambio al  modificar  $f$ o $p$\n",
      "- Implementar un an\u00e1lisis en las celdas para observar, en promedio, c\u00faantas veces se quema, revive o muere el \u00e1rbol\n",
      "- A trav\u00e9s de imshow(matriz) modificar los n\u00fameros a colores y en general que se vea bien\n",
      "- Intentar implementarlo para matrices grandes y con muchos tiempos para poder observar los fractales que se forman"
     ]
    }
   ],
   "metadata": {}
  }
 ]
}